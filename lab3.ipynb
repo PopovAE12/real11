{
  "nbformat": 4,
  "nbformat_minor": 0,
  "metadata": {
    "colab": {
      "provenance": [],
      "authorship_tag": "ABX9TyPB/1xWy6RlqiZcxfyZYYq6",
      "include_colab_link": true
    },
    "kernelspec": {
      "name": "python3",
      "display_name": "Python 3"
    },
    "language_info": {
      "name": "python"
    }
  },
  "cells": [
    {
      "cell_type": "markdown",
      "metadata": {
        "id": "view-in-github",
        "colab_type": "text"
      },
      "source": [
        "<a href=\"https://colab.research.google.com/github/PopovAE12/real11/blob/main/lab3.ipynb\" target=\"_parent\"><img src=\"https://colab.research.google.com/assets/colab-badge.svg\" alt=\"Open In Colab\"/></a>"
      ]
    },
    {
      "cell_type": "code",
      "execution_count": 2,
      "metadata": {
        "colab": {
          "base_uri": "https://localhost:8080/"
        },
        "id": "AmZWELja3nHM",
        "outputId": "478c0415-9bd3-477b-9a05-0067414a6d88"
      },
      "outputs": [
        {
          "output_type": "stream",
          "name": "stdout",
          "text": [
            "Площадь круга:  78.5\n",
            "Длина окружности:  31.4\n",
            "Точка находится на окружности\n",
            "Точка находится вне круга\n"
          ]
        }
      ],
      "source": [
        "    import math\n",
        "\n",
        "    class Circle:\n",
        "        def __init__(self, x, y, r): # Координаты центра и радиус\n",
        "            self.x = x\n",
        "            self.y = y\n",
        "            if r > 0:\n",
        "               self.r = r\n",
        "            else:\n",
        "              print(\"Радиус не может быть отрицательным\")\n",
        "        # Площадь круга\n",
        "        def area(self):\n",
        "            return round(math.pi * self.r ** 2,1)\n",
        "        # Длина окружности\n",
        "        def circumference(self):\n",
        "            return round(2 * math.pi * self.r,1)\n",
        "        # Проверка попадания заданной точки внутрь круга\n",
        "        def is_inside(self, a, b):\n",
        "          if (a - self.x) ** 2 + (b - self.y) ** 2 < self.r ** 2:\n",
        "            print('Точка находится внутри круга')\n",
        "          elif (a - self.x) ** 2 + (b - self.y) ** 2 == self.r ** 2:\n",
        "            print('Точка находится на окружности')\n",
        "          else:\n",
        "            print('Точка находится вне круга')\n",
        "            # return (a - self.x) ** 2 + (b - self.y) ** 2 <= self.r ** 2\n",
        "\n",
        "    c = Circle(0, 0, 5)\n",
        "    print('Площадь круга: ', c.area())\n",
        "    print('Длина окружности: ', c.circumference())\n",
        "    c.is_inside(3, 4)\n",
        "    c.is_inside(7, 8)\n",
        "\n"
      ]
    }
  ]
}