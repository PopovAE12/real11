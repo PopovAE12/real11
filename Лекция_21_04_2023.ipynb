{
  "nbformat": 4,
  "nbformat_minor": 0,
  "metadata": {
    "colab": {
      "provenance": [],
      "include_colab_link": true
    },
    "kernelspec": {
      "name": "python3",
      "display_name": "Python 3"
    },
    "language_info": {
      "name": "python"
    }
  },
  "cells": [
    {
      "cell_type": "markdown",
      "metadata": {
        "id": "view-in-github",
        "colab_type": "text"
      },
      "source": [
        "<a href=\"https://colab.research.google.com/github/PopovAE12/real11/blob/main/%D0%9B%D0%B5%D0%BA%D1%86%D0%B8%D1%8F_21_04_2023.ipynb\" target=\"_parent\"><img src=\"https://colab.research.google.com/assets/colab-badge.svg\" alt=\"Open In Colab\"/></a>"
      ]
    },
    {
      "cell_type": "markdown",
      "source": [
        "Декоратор"
      ],
      "metadata": {
        "id": "z-gE5xP0uiMw"
      }
    },
    {
      "cell_type": "markdown",
      "source": [
        "Функции в Python'e являются объектами, а значит:\n",
        "\n",
        "\n",
        "могут быть связаны с переменной;\n",
        "\n",
        "\n",
        "могут быть определены одна внутри другой."
      ],
      "metadata": {
        "id": "ovZ2DdJxvY9e"
      }
    },
    {
      "cell_type": "markdown",
      "source": [
        "Функции и методы в Python'e - это практически одно и то же, за исключением того, что методы всегда ожидают первым параметром ссылку на сам объект(self).\n",
        "\n",
        " Это значит, что мы можем создавать декораторы для методов так же, как и для функций, просто не забывая про self."
      ],
      "metadata": {
        "id": "p67FYWCrzfUe"
      }
    },
    {
      "cell_type": "code",
      "execution_count": null,
      "metadata": {
        "colab": {
          "base_uri": "https://localhost:8080/"
        },
        "id": "_8pg_bjfuX7N",
        "outputId": "eeb2d373-d6a8-4e7a-9651-a88fc55074de"
      },
      "outputs": [
        {
          "output_type": "stream",
          "name": "stdout",
          "text": [
            "Мне 26, а ты бы сколько дал?\n"
          ]
        }
      ],
      "source": [
        "def method_friendly_decorator(method_to_decorate):\n",
        "  def wrapper(self, lie):\n",
        "    lie = lie - 3\n",
        "    return method_to_decorate(self, lie)\n",
        "  return wrapper\n",
        "\n",
        "class Lucy(object):\n",
        "  def __init__(self):\n",
        "    self.age = 32\n",
        "  @method_friendly_decorator\n",
        "  def say_your_ago(self, lie):\n",
        "    print(\"Мне %s, а ты бы сколько дал?\" % (self.age + lie))\n",
        "\n",
        "l = Lucy()\n",
        "l.say_your_ago(-3)"
      ]
    },
    {
      "cell_type": "markdown",
      "source": [
        "Все три вида методов"
      ],
      "metadata": {
        "id": "R8wOME8a3HHi"
      }
    },
    {
      "cell_type": "code",
      "source": [
        "class ToyClass:\n",
        "  def instancemethod(self):\n",
        "    return 'instance method called', self\n",
        "\n",
        "  @classmethod\n",
        "  def classmethod(cls):\n",
        "    return 'class method called', cls\n",
        "\n",
        "  @staticmethod\n",
        "  def staticmethod():\n",
        "    return 'static method called'"
      ],
      "metadata": {
        "id": "DHfN8zfp2UBb"
      },
      "execution_count": null,
      "outputs": []
    },
    {
      "cell_type": "markdown",
      "source": [
        "Когда и какой метод стоит использовать."
      ],
      "metadata": {
        "id": "n9zjvEna4fN3"
      }
    },
    {
      "cell_type": "code",
      "source": [
        "from datetime import date\n",
        "class Person:\n",
        "  def __init__(self, name, age):\n",
        "    self.name = name\n",
        "    self.age = age\n",
        "\n",
        "  @classmethod\n",
        "  def from_birth_year(cls, name, year):\n",
        "    return cls(name, date.today().year - year)\n",
        "\n",
        "  @staticmethod\n",
        "  def is_adult(age):\n",
        "    return age > 18"
      ],
      "metadata": {
        "id": "GzIS_yYk3M9g"
      },
      "execution_count": null,
      "outputs": []
    },
    {
      "cell_type": "code",
      "source": [
        "person1 = Person('Sarah', 25)\n",
        "person2 = Person.from_birth_year('Roak', 1994)"
      ],
      "metadata": {
        "id": "mXUrat1T4cn2"
      },
      "execution_count": null,
      "outputs": []
    },
    {
      "cell_type": "code",
      "source": [
        "person1.name, person1.age"
      ],
      "metadata": {
        "colab": {
          "base_uri": "https://localhost:8080/"
        },
        "id": "7xkScqsx5Fe1",
        "outputId": "4770682b-bb50-4848-afb2-ea8836788b97"
      },
      "execution_count": null,
      "outputs": [
        {
          "output_type": "execute_result",
          "data": {
            "text/plain": [
              "('Sarah', 25)"
            ]
          },
          "metadata": {},
          "execution_count": 5
        }
      ]
    },
    {
      "cell_type": "code",
      "source": [
        "person2.name, person2.age"
      ],
      "metadata": {
        "colab": {
          "base_uri": "https://localhost:8080/"
        },
        "id": "8t8_nqTo5LSo",
        "outputId": "1c363d48-0137-458d-9dcd-5894f36c7dd2"
      },
      "execution_count": null,
      "outputs": [
        {
          "output_type": "execute_result",
          "data": {
            "text/plain": [
              "('Roak', 29)"
            ]
          },
          "metadata": {},
          "execution_count": 6
        }
      ]
    },
    {
      "cell_type": "code",
      "source": [
        "Person.is_adult(25)"
      ],
      "metadata": {
        "colab": {
          "base_uri": "https://localhost:8080/"
        },
        "id": "nKZG7dF35QQs",
        "outputId": "cb930e51-c66e-4882-ce01-6f5d9b4ef7a6"
      },
      "execution_count": null,
      "outputs": [
        {
          "output_type": "execute_result",
          "data": {
            "text/plain": [
              "True"
            ]
          },
          "metadata": {},
          "execution_count": 7
        }
      ]
    },
    {
      "cell_type": "markdown",
      "source": [
        "Первый пример"
      ],
      "metadata": {
        "id": "6MZiX27g6Gq2"
      }
    },
    {
      "cell_type": "code",
      "source": [
        "from math import pi\n",
        "class Cylinder:\n",
        "  @staticmethod\n",
        "  def make_area(d, h):\n",
        "    circle = pi * d ** 2 / 4\n",
        "    side = pi * d * h\n",
        "    return round(circle*2 + side, 2)\n",
        "\n",
        "  def __init__(self, diameter, high):\n",
        "    self.dia = diameter\n",
        "    self.h = high\n",
        "    self.area = self.make_area(diameter, high)\n",
        "\n",
        "a = Cylinder(1, 2)\n",
        "print(a.area)\n",
        "print(a.make_area(2, 2))"
      ],
      "metadata": {
        "colab": {
          "base_uri": "https://localhost:8080/"
        },
        "id": "10F7WSgS6Mpr",
        "outputId": "71148add-5db3-4ebd-ffed-d161560887e5"
      },
      "execution_count": null,
      "outputs": [
        {
          "output_type": "stream",
          "name": "stdout",
          "text": [
            "7.85\n",
            "18.85\n"
          ]
        }
      ]
    },
    {
      "cell_type": "code",
      "source": [
        "from abc import ABC, abstractmethod\n",
        "class Hero:\n",
        "  def __init__(self):\n",
        "    self.positive_effects = []\n",
        "    self.negative_effects = []\n",
        "    self.stats = {\n",
        "        \"HP\": 128,\n",
        "        \"MP\": 42,\n",
        "        \"SP\": 100,\n",
        "        \"Strength\": 15,\n",
        "        \"Perception\": 4,\n",
        "        \"Endurance\": 8,\n",
        "        \"Charisma\": 2,\n",
        "        \"Intelligence\": 3,\n",
        "        \"Agility\": 8,\n",
        "        \"Luck\": 1\n",
        "    }\n",
        "\n",
        "  def get_positive_effects(self):\n",
        "    return self.positive_effects.copy()\n",
        "\n",
        "  def get_negative_effects(self):\n",
        "    return self.negative_effects.copy()\n",
        "\n",
        "  def get_stats(self):\n",
        "    return self.stats.copy()"
      ],
      "metadata": {
        "id": "jGB0vfq78kwS"
      },
      "execution_count": null,
      "outputs": []
    },
    {
      "cell_type": "code",
      "source": [
        "class AbstractEff(Hero, ABC):\n",
        "    def __init__(self, base):\n",
        "        self.base = base\n",
        "\n",
        "    @abstractmethod\n",
        "    def get_positive_effects(self):\n",
        "        return self.positive_effects\n",
        "\n",
        "    @abstractmethod\n",
        "    def get_negative_effects(self):\n",
        "        return self.negative_effects\n",
        "\n",
        "    @abstractmethod\n",
        "    def get_stats(self):\n",
        "        pass\n",
        "\n",
        "class AbstractPositive(AbstractEff):\n",
        "    def get_negative_effects(self):\n",
        "        return self.base.get_negative_effects()\n",
        "\n",
        "\n",
        "class AbstractNegative(AbstractEff):\n",
        "    def get_positive_effects(self):\n",
        "        return self.base.get_positive_effects()\n",
        "\n",
        "\n",
        "class Berserk(AbstractPositive):\n",
        "    def get_stats(self):\n",
        "        stats = self.base.get_stats()\n",
        "        stats[\"HP\"] += 50\n",
        "        stats[\"Strength\"] += 7\n",
        "        stats[\"Endurance\"] += 7\n",
        "        stats[\"Agility\"] += 7\n",
        "        stats[\"Luck\"] += 7\n",
        "        stats[\"Perception\"] -= 3\n",
        "        stats[\"Charisma\"] -= 3\n",
        "        stats[\"Intelligence\"] -= 3\n",
        "        return stats\n",
        "\n",
        "    def get_positive_effects(self):\n",
        "        return self.base.get_positive_effects() + [\"Berserk\"]\n",
        "\n",
        "\n",
        "class Blessing(AbstractPositive):\n",
        "    def get_stats(self):\n",
        "        stats = self.base.get_stats()\n",
        "        stats[\"Strength\"] += 2\n",
        "        stats[\"Endurance\"] += 2\n",
        "        stats[\"Agility\"] += 2\n",
        "        stats[\"Luck\"] += 2\n",
        "        stats[\"Perception\"] += 2\n",
        "        stats[\"Charisma\"] += 2\n",
        "        stats[\"Intelligence\"] += 2\n",
        "        return stats\n",
        "\n",
        "    def get_positive_effects(self):\n",
        "        return self.base.get_positive_effects() + [\"Blessing\"]\n",
        "\n",
        "\n",
        "class Weakness(AbstractNegative):\n",
        "    def get_stats(self):\n",
        "        stats = self.base.get_stats()\n",
        "        stats[\"Strength\"] -= 4\n",
        "        stats[\"Endurance\"] -= 4\n",
        "        stats[\"Agility\"] -= 4\n",
        "        return stats\n",
        "\n",
        "    def get_negative_effects(self):\n",
        "        return self.base.get_negative_effects() + [\"Weakness\"]\n",
        "\n",
        "\n",
        "class Curse(AbstractNegative):\n",
        "    def get_stats(self):\n",
        "        stats = self.base.get_stats()\n",
        "        stats[\"Strength\"] -= 2\n",
        "        stats[\"Endurance\"] -= 2\n",
        "        stats[\"Agility\"] -= 2\n",
        "        stats[\"Luck\"] -= 2\n",
        "        stats[\"Perception\"] -= 2\n",
        "        stats[\"Charisma\"] -= 2\n",
        "        stats[\"Intelligence\"] -= 2\n",
        "        return stats\n",
        "\n",
        "    def get_negative_effects(self):\n",
        "        return self.base.get_negative_effects() + [\"Curse\"]\n",
        "\n",
        "\n",
        "class EvilEye(AbstractNegative):\n",
        "    def get_stats(self):\n",
        "        stats = self.base.get_stats()\n",
        "        stats[\"Luck\"] -= 10\n",
        "        return stats\n",
        "\n",
        "    def get_negative_effects(self):\n",
        "        return self.base.get_negative_effects() + [\"EvilEye\"]"
      ],
      "metadata": {
        "id": "Rfl1p9f4-TE_"
      },
      "execution_count": null,
      "outputs": []
    },
    {
      "cell_type": "code",
      "source": [
        "Geralt = Hero()\n",
        "print(Geralt.stats)\n",
        "print(Geralt.get_negative_effects(), '\\n')\n",
        "\n",
        "Ujas = Curse(Geralt)\n",
        "print(Ujas.get_stats())\n",
        "print(Ujas.get_negative_effects(), '\\n')\n",
        "\n",
        "\n",
        "Boost = Berserk(Geralt)\n",
        "print(Boost.get_stats())\n",
        "print(Boost.get_positive_effects(), '\\n')\n",
        "\n",
        "Ujas2 = EvilEye(Geralt)\n",
        "print(Ujas2.get_stats())\n",
        "print(Ujas2.get_negative_effects(), '\\n')\n",
        "\n",
        "Boost2 = Blessing(Geralt)\n",
        "print(Boost2.get_stats())\n",
        "print(Boost2.get_positive_effects(), '\\n')\n",
        "\n",
        "Ujas3 = Weakness(Geralt)\n",
        "print(Ujas3.get_stats())\n",
        "print(Ujas3.get_negative_effects())"
      ],
      "metadata": {
        "colab": {
          "base_uri": "https://localhost:8080/"
        },
        "id": "M8YJm7xizv2H",
        "outputId": "87e8b681-8e97-4b39-ef39-c64a926af242"
      },
      "execution_count": null,
      "outputs": [
        {
          "output_type": "stream",
          "name": "stdout",
          "text": [
            "{'HP': 128, 'MP': 42, 'SP': 100, 'Strength': 15, 'Perception': 4, 'Endurance': 8, 'Charisma': 2, 'Intelligence': 3, 'Agility': 8, 'Luck': 1}\n",
            "[] \n",
            "\n",
            "{'HP': 128, 'MP': 42, 'SP': 100, 'Strength': 13, 'Perception': 2, 'Endurance': 6, 'Charisma': 0, 'Intelligence': 1, 'Agility': 6, 'Luck': -1}\n",
            "['Curse'] \n",
            "\n",
            "{'HP': 178, 'MP': 42, 'SP': 100, 'Strength': 22, 'Perception': 1, 'Endurance': 15, 'Charisma': -1, 'Intelligence': 0, 'Agility': 15, 'Luck': 8}\n",
            "['Berserk'] \n",
            "\n",
            "{'HP': 128, 'MP': 42, 'SP': 100, 'Strength': 15, 'Perception': 4, 'Endurance': 8, 'Charisma': 2, 'Intelligence': 3, 'Agility': 8, 'Luck': -9}\n",
            "['EvilEye'] \n",
            "\n",
            "{'HP': 128, 'MP': 42, 'SP': 100, 'Strength': 17, 'Perception': 6, 'Endurance': 10, 'Charisma': 4, 'Intelligence': 5, 'Agility': 10, 'Luck': 3}\n",
            "['Blessing'] \n",
            "\n",
            "{'HP': 128, 'MP': 42, 'SP': 100, 'Strength': 11, 'Perception': 4, 'Endurance': 4, 'Charisma': 2, 'Intelligence': 3, 'Agility': 4, 'Luck': 1}\n",
            "['Weakness']\n"
          ]
        }
      ]
    }
  ]
}