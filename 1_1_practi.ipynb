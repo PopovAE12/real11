{
  "nbformat": 4,
  "nbformat_minor": 0,
  "metadata": {
    "colab": {
      "provenance": [],
      "include_colab_link": true
    },
    "kernelspec": {
      "name": "python3",
      "display_name": "Python 3"
    },
    "language_info": {
      "name": "python"
    }
  },
  "cells": [
    {
      "cell_type": "markdown",
      "metadata": {
        "id": "view-in-github",
        "colab_type": "text"
      },
      "source": [
        "<a href=\"https://colab.research.google.com/github/PopovAE12/real11/blob/main/1_1_practi.ipynb\" target=\"_parent\"><img src=\"https://colab.research.google.com/assets/colab-badge.svg\" alt=\"Open In Colab\"/></a>"
      ]
    },
    {
      "cell_type": "code",
      "source": [
        "class A():\n",
        "     __a = float()\n",
        "     __b = float()\n",
        "\n",
        "     def __init__(self, a, b):\n",
        "         self.a = a\n",
        "         self.b = b \n",
        "     def reduce(self):\n",
        "         self.a -= self.b\n",
        "         return self.a\n",
        "     def addition(self):\n",
        "         return self.a + self.b \n",
        "         \n",
        "x= A(10, 2)\n",
        "x.addition()"
      ],
      "metadata": {
        "colab": {
          "base_uri": "https://localhost:8080/"
        },
        "id": "xBccwoJosoyb",
        "outputId": "d2954e5a-bea0-434e-ed62-d40422509d52"
      },
      "execution_count": 2,
      "outputs": [
        {
          "output_type": "execute_result",
          "data": {
            "text/plain": [
              "12"
            ]
          },
          "metadata": {},
          "execution_count": 2
        }
      ]
    },
    {
      "cell_type": "code",
      "source": [
        "x.reduce()"
      ],
      "metadata": {
        "colab": {
          "base_uri": "https://localhost:8080/"
        },
        "id": "kKCASliHvJxN",
        "outputId": "92386965-8c94-4bfd-fe55-56b24f03d4e0"
      },
      "execution_count": 3,
      "outputs": [
        {
          "output_type": "execute_result",
          "data": {
            "text/plain": [
              "8"
            ]
          },
          "metadata": {},
          "execution_count": 3
        }
      ]
    },
    {
      "cell_type": "code",
      "source": [
        "class Program():\n",
        "  def __init__(self):\n",
        "      c2 = A(10, 2)\n",
        "      print(c2.reduce())\n",
        "      print(c2.addition())\n",
        "  \n",
        "if __name__==\"__main__\":\n",
        "   f1 = Program()\n",
        "   del f1\n",
        "    "
      ],
      "metadata": {
        "colab": {
          "base_uri": "https://localhost:8080/"
        },
        "id": "WT-RIUk8KhV-",
        "outputId": "16cc5493-984f-458a-f01e-4f4d83c9cef9"
      },
      "execution_count": 4,
      "outputs": [
        {
          "output_type": "stream",
          "name": "stdout",
          "text": [
            "8\n",
            "10\n"
          ]
        }
      ]
    }
  ]
}