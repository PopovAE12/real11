{
  "nbformat": 4,
  "nbformat_minor": 0,
  "metadata": {
    "colab": {
      "provenance": [],
      "collapsed_sections": [
        "1x6u7dbGE-jU"
      ],
      "include_colab_link": true
    },
    "kernelspec": {
      "name": "python3",
      "display_name": "Python 3"
    },
    "language_info": {
      "name": "python"
    }
  },
  "cells": [
    {
      "cell_type": "markdown",
      "metadata": {
        "id": "view-in-github",
        "colab_type": "text"
      },
      "source": [
        "<a href=\"https://colab.research.google.com/github/PopovAE12/real11/blob/main/popov_lablab5.ipynb\" target=\"_parent\"><img src=\"https://colab.research.google.com/assets/colab-badge.svg\" alt=\"Open In Colab\"/></a>"
      ]
    },
    {
      "cell_type": "markdown",
      "source": [
        "\n",
        "Программирование на языке высокого уровня (Python). https://www.yuripetrov.ru/edu/python\n",
        "\n",
        "Попов Александр Евгеньевич\n",
        "\n",
        "Группа: АДЭУ-221\n",
        "\n",
        "E-mail: Alex04priest@gmail.com\n"
      ],
      "metadata": {
        "id": "HFihO3QDEmDv"
      }
    },
    {
      "cell_type": "markdown",
      "source": [
        "# №5.2.1 \n",
        "5.2.1\n",
        "\n",
        "Определите значение \n",
        "\n",
        "![image.png](data:image/png;base64,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) где sgn - сигнум-функция, а x и y - вещественные числа: ![image.png](data:image/png;base64,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)"
      ],
      "metadata": {
        "id": "0JgWmRto8_hV"
      }
    },
    {
      "cell_type": "code",
      "execution_count": null,
      "metadata": {
        "id": "gaoDo6VE8Nw0",
        "colab": {
          "base_uri": "https://localhost:8080/"
        },
        "outputId": "ecd1a6a8-2c3d-4f2c-c506-c67a384b3143"
      },
      "outputs": [
        {
          "output_type": "stream",
          "name": "stdout",
          "text": [
            "Ввод x: -9\n",
            "Ввод y: 0\n",
            "Ответ: 0.33\n"
          ]
        }
      ],
      "source": [
        "def sgn(x):\n",
        "  if x > 0:\n",
        "    return 1\n",
        "  elif x < 0:\n",
        "    return -1\n",
        "  return 0\n",
        "\n",
        "def sgn(y):\n",
        "  if y > 0:\n",
        "    return 1\n",
        "  elif y < 0:\n",
        "    return -1\n",
        "  return 0\n",
        "\n",
        "x = int(input('Ввод x: '))\n",
        "y = int(input('Ввод y: '))\n",
        "\n",
        "z =(sgn(x)+y**2)/(sgn(y)-(abs(x))**(1/2))\n",
        "\n",
        "print(\"Ответ:\", round(z, 2))\n",
        "\n",
        "# —------------\n",
        "# Пример вывода:\n",
        "#\n",
        "# Введите x: -9\n",
        "# Введите y: 0\n",
        "# Ответ: 0.33\n"
      ]
    },
    {
      "cell_type": "markdown",
      "source": [
        "# №5.2.2\n",
        "5.2.2\n",
        "\n",
        "Дан список температурных изменений в течение дня (целые числа). Известно, что измеряющее устройство иногда сбоит и записывает отсутствие температуры (значение None).\n",
        "\n",
        "Выведите среднюю температуру за наблюдаемый промежуток времени, предварительно очистив список от неопределенных значений. Гарантируется, что хотя бы одно определенное значение в списке есть."
      ],
      "metadata": {
        "id": "yKncq_AZ_wr9"
      }
    },
    {
      "cell_type": "code",
      "source": [
        "def input_data():\n",
        "  for i in range(n):\n",
        "    demension=input(\"Измер {}-e:\".format(i+1))\n",
        "    if demension ==\"-\":\n",
        "      data.append(None)\n",
        "    else:\n",
        "      data.append(int(demension))\n",
        "    i +=1\n",
        "def avg(new_data):\n",
        "  return sum(new_data)/len(new_data)\n",
        "def cleared_data(data):\n",
        "  new_data=[]\n",
        "  for x in data:\n",
        "    if x !=None:\n",
        "      new_data.append(x)\n",
        "  return new_data\n",
        "def print_res2():\n",
        "  z=avg(cleared_data(data))\n",
        "  print(\"Ср темпа:{:.2f}\".format(z))"
      ],
      "metadata": {
        "id": "7aV-5WqrjGK4"
      },
      "execution_count": null,
      "outputs": []
    },
    {
      "cell_type": "code",
      "source": [
        "n=int(input()) \n",
        "data=[] \n",
        "input_data() \n",
        "print_res2()"
      ],
      "metadata": {
        "id": "_y7QC1y4F7xG",
        "colab": {
          "base_uri": "https://localhost:8080/"
        },
        "outputId": "325ef5b3-a039-4e8d-8b69-d6eb295ad3af"
      },
      "execution_count": null,
      "outputs": [
        {
          "output_type": "stream",
          "name": "stdout",
          "text": [
            "3\n",
            "Измер 1-e:10\n",
            "Измер 2-e:-\n",
            "Измер 3-e:20\n",
            "Ср темпа:15.00\n"
          ]
        }
      ]
    },
    {
      "cell_type": "markdown",
      "source": [
        "# №5.2.3\n",
        "5.2.3\n",
        "\n",
        "\n",
        "Выведите все счастливые номера билетов в диапазоне от a до b (положительные целые числа, a<b), если известно, что счастливым считается номер, у которого количество четных цифр равно количеству нечетных."
      ],
      "metadata": {
        "id": "kuQDQ8uF_qHx"
      }
    },
    {
      "cell_type": "code",
      "source": [
        "g = []\n",
        "\n",
        "def lucky(num):\n",
        "    amm = []\n",
        "    evo = []\n",
        "    p_c = num%10\n",
        "    p_f = num//10\n",
        "    if p_c%2==0:\n",
        "        evo.append(p_c)\n",
        "    else:\n",
        "        amm.append(p_c)\n",
        "    if p_f%2 == 0:\n",
        "        evo.append(p_c)\n",
        "    else:\n",
        "        amm.append(p_c)\n",
        "    if len(amm) == len(evo):\n",
        "        g.append(num)\n",
        "    amm.clear()\n",
        "    evo.clear()\n",
        "    return g\n",
        "\n",
        "a = int(input('первый номер билета: '))\n",
        "b = int(input('последний номер билета: '))\n",
        "\n",
        "for x in range(a, b+1):\n",
        "  lucky(x)\n",
        "\n",
        "print(' ' .join(map(str, g)))\n",
        "# --------------\n",
        "# Пример вывода:\n",
        "#\n",
        "# Первый номер билета: 10\n",
        "# Последний номер билета: 25\n",
        "# 10 12 14 16 18 21 23 25"
      ],
      "metadata": {
        "id": "fU-G_H5D_tt3",
        "colab": {
          "base_uri": "https://localhost:8080/"
        },
        "outputId": "485dfc7c-4fa2-4e7e-e163-d9fe14c48c9f"
      },
      "execution_count": null,
      "outputs": [
        {
          "output_type": "stream",
          "name": "stdout",
          "text": [
            "первый номер билета: 10\n",
            "последний номер билета: 25\n",
            "10 12 14 16 18 21 23 25\n"
          ]
        }
      ]
    },
    {
      "cell_type": "markdown",
      "source": [
        "# № 5.2.4\n",
        "5.2.4\n",
        "\n",
        "Дата характеризуется тремя натуральными числами: день, месяц и год. Учитывая, что год может быть високосным, реализуйте две функции, которые определяют вчерашнюю и завтрашнюю дату."
      ],
      "metadata": {
        "id": "KyEz84DvAzAx"
      }
    },
    {
      "cell_type": "code",
      "source": [
        "def is_leap(year): \n",
        "  if year % 4 ==0 and year %100 != 0 or year % 400 == 0: \n",
        "    febrary_day=29 \n",
        "  else: \n",
        "     febrary_day = 28 \n",
        "  return febrary_day \n",
        "def days(month, year): \n",
        "  month_day_31=[1,3,5,7,8,10,12] \n",
        "  month_day_30=[4,6,9,11] \n",
        "  if month in month_day_31: \n",
        "    date=31 \n",
        "  elif month in month_day_30: \n",
        "    date=30 \n",
        "  else: \n",
        "    date=is_leap(year) \n",
        "  return date \n",
        "def previous_date(day, month, year): \n",
        "   if day == 1: \n",
        "     month -=1 \n",
        "     if month == 0: \n",
        "       year -=1 \n",
        "       month=12 \n",
        "       day=days(month, year) \n",
        "     else: \n",
        "       year=year \n",
        "       month = month \n",
        "       day=days(month, year) \n",
        "   else: \n",
        "     day -=1 \n",
        "     month=month \n",
        "     year=year \n",
        "   return day, month, year \n",
        "def next_date(day, month, year): \n",
        "  if day == days(month, year): \n",
        "    month += 1 \n",
        "    if month == 13: \n",
        "      month=1 \n",
        "      year+=1 \n",
        "      day=1 \n",
        "    else: \n",
        "      month=month \n",
        "      day=1 \n",
        "      year=year \n",
        "  else: \n",
        "    day+=1 \n",
        "    month = month \n",
        "    year=year \n",
        "  return day, month, year \n",
        "dmn = input('День, месяц, год: ').split() \n",
        "dmn = map(int, dmn) \n",
        "day, month, year = dmn \n",
        " \n",
        "day_next, month_next, year_next = next_date(day, month, year) \n",
        "day_prev, month_prev, year_prev = previous_date(day, month, year) \n",
        " \n",
        "print(f'Предыдущий день: {day_prev}/{month_prev}/{year_prev}') \n",
        "print(f'Следующий день: {day_next}/{month_next}/{year_next}') \n",
        "  \n",
        "# —----------— \n",
        "# Пример вывода: \n",
        "# \n",
        "# День, месяц, год через пробел: 1 3 2000 \n",
        "# Предыдущий день: 29/02/2000 \n",
        "# Следующий день: 02/03/2000\n",
        "\n",
        "\n"
      ],
      "metadata": {
        "id": "poNozfRJAaAS",
        "colab": {
          "base_uri": "https://localhost:8080/"
        },
        "outputId": "67d9455c-28d9-477e-9365-d6a294d1f8d0"
      },
      "execution_count": null,
      "outputs": [
        {
          "output_type": "stream",
          "name": "stdout",
          "text": [
            "День, месяц, год: 1 3 2000\n",
            "Предыдущий день: 29/2/2000\n",
            "Следующий день: 2/3/2000\n"
          ]
        }
      ]
    },
    {
      "cell_type": "markdown",
      "source": [
        "# №5.2.5\n",
        "В задаче № 5.2.4 замените функции получения вчерашней и завтрашней даты на одну:\n",
        "\n",
        "def another_date(day, month, year, delta=1):\n",
        "    pass\n",
        "где delta - ключевой параметр, определяющий сколько дней необходимо добавить или вычесть (если аргумент отрицательный) из переданной даты. Функции, реализованные в задаче № 5.2.4 сделайте локальными для another_date(), вызывая их внутри необходимое количество раз."
      ],
      "metadata": {
        "id": "TQi2u3-kxiyC"
      }
    },
    {
      "cell_type": "code",
      "source": [
        "a=int(input())\n",
        "\n",
        "\n",
        "\n",
        "for i in()\n",
        "    if y="
      ],
      "metadata": {
        "id": "qgnaa6XsLMx9"
      },
      "execution_count": null,
      "outputs": []
    },
    {
      "cell_type": "markdown",
      "source": [
        "# №5.2.6\n",
        "Дан список из чисел.\n",
        "\n",
        "Определите их НОК (наименьшее общее кратное) и НОД (наибольший общий делитель)."
      ],
      "metadata": {
        "id": "GfIu1gBqBC7N"
      }
    },
    {
      "cell_type": "code",
      "source": [
        "def gcd(perv, vtor):\n",
        "  if vtor > perv:\n",
        "    a = vtor\n",
        "  else:\n",
        "    a = perv\n",
        "  for i in range(1,a+1):\n",
        "    if (perv % i == 0) and (vtor % i == 0 ):\n",
        "      gcd = i\n",
        "  return gcd\n",
        "\n",
        "\n",
        "def lcm(perv, vtor):\n",
        "  if perv > vtor:\n",
        "    a = perv\n",
        "  else:\n",
        "    a = vtor\n",
        "  while(True):\n",
        "    if (a % perv == 0) and (a % vtor == 0):\n",
        "      return a\n",
        "    a += 1\n",
        "\n",
        "\n",
        "def gcd_nums(nums):\n",
        "  for x in range(1, len(nums) - 1):\n",
        "    nums[x] = gcd(nums[x-1], nums[x])\n",
        "  return nums[x]\n",
        "\n",
        "def lcm_nums(nums):\n",
        "  for x in range(1, len(nums)):\n",
        "    nums[x] = lcm(nums[x-1], nums[x])\n",
        "  return nums[x]\n",
        "\n",
        "\n",
        "nums = input('чилса через пробел: ').split()\n",
        "nums = list(map(int, nums))\n",
        "nums1 = nums.copy()\n",
        "gcd_d = gcd_nums(nums)\n",
        "lcm_d = lcm_nums(nums1)\n",
        "\n",
        "print('НОД = ', gcd_d)\n",
        "print('НОК = ', lcm_d)"
      ],
      "metadata": {
        "id": "hAVoLHnVZtcy",
        "colab": {
          "base_uri": "https://localhost:8080/"
        },
        "outputId": "753d6d2e-c7d3-47fd-9439-21b1b5c5d3d5"
      },
      "execution_count": null,
      "outputs": [
        {
          "output_type": "stream",
          "name": "stdout",
          "text": [
            "чилса через пробел: 6 8 24 16\n",
            "НОД =  2\n",
            "НОК =  48\n"
          ]
        }
      ]
    },
    {
      "cell_type": "markdown",
      "source": [
        "# 5.2.7\n",
        "Даны n предложений. Определите, сколько из них содержат хотя бы одну цифру."
      ],
      "metadata": {
        "id": "1x6u7dbGE-jU"
      }
    },
    {
      "cell_type": "code",
      "source": [
        "def has_nomera(sentence):\n",
        "    sentences = 0\n",
        "    sentence_list = list(map(str, sentence))\n",
        "    nomera = '123456789'\n",
        "    nomera = list(map(str, nomera))\n",
        "    for y in nomera:\n",
        "        if y in sentence_list:\n",
        "            sentences += 1\n",
        "    return sentences\n",
        "\n",
        "\n",
        "def sentences_with_nomera_count(sentences):\n",
        "    print(f'Предлож. с цифрой = {sentences}')"
      ],
      "metadata": {
        "id": "-t8bZc9VCv9U"
      },
      "execution_count": 28,
      "outputs": []
    },
    {
      "cell_type": "code",
      "source": [
        "b = int(input('Введите количество предложений: '))\n",
        "sentences = 0\n",
        "amount = 0\n",
        "\n",
        "for x in range(b):\n",
        "  sentence1 = input(f'Введите предложение №{x+1}: ')\n",
        "  f = has_nomera(sentence1)\n",
        "  if f == 1:\n",
        "    amount += 1\n",
        "\n",
        "sentences_with_nomera_count(amount)\n",
        "\n",
        "# --------------\n",
        "# Пример вывода:\n",
        "#\n",
        "# Введите количество предложений: 3\n",
        "# Введите предложение №1:\n",
        "# Просто текст\n",
        "# Введите предложение №2:\n",
        "# Текст с цифрой 1 (один)\n",
        "# Введите предложение №3:\n",
        "# Тут нет цифры\n",
        "# Предложений с цифрой = 1"
      ],
      "metadata": {
        "colab": {
          "base_uri": "https://localhost:8080/"
        },
        "id": "2DXebdcJBUwx",
        "outputId": "34a3ff7c-d3ab-4c7a-cda6-46fdb9457c23"
      },
      "execution_count": 30,
      "outputs": [
        {
          "output_type": "stream",
          "name": "stdout",
          "text": [
            "Введите количество предложений: 3\n",
            "Введите предложение №1: Пока\n",
            "Введите предложение №2: 3 привет \n",
            "Введите предложение №3: До свидания\n",
            "Предлож. с цифрой = 1\n"
          ]
        }
      ]
    },
    {
      "cell_type": "markdown",
      "source": [
        "# №5.2.8\n",
        "Дана строка s и символ k. Реализуйте функцию, рисующую рамку из символа k вокруг данной строки, например:\n"
      ],
      "metadata": {
        "id": "mOA0rrniITJb"
      }
    },
    {
      "cell_type": "code",
      "source": [
        "def print_s_simv(s, k):\n",
        " s_len=len(s)\n",
        " print(k*(s_len+2))\n",
        " print(k+s+k)\n",
        " print(k*(s_len+2))\n",
        "s=input('введите стр: ')\n",
        "k=input('введите смвл: ')\n",
        "print_s_simv(s,k)\n",
        "# —------------\n",
        "# Пример вывода:\n",
        "#\n",
        "# Введите строку: Просто текст\n",
        "# Введите символ: +\n",
        "# ++++++++++++++\n",
        "# +Просто текст+\n",
        "# ++++++++++++++def print_with_border(s, k):"
      ],
      "metadata": {
        "colab": {
          "base_uri": "https://localhost:8080/"
        },
        "id": "MXnH4RGsCYxZ",
        "outputId": "87c86702-e96d-4bd5-fc98-bdd9acda6b37"
      },
      "execution_count": 26,
      "outputs": [
        {
          "output_type": "stream",
          "name": "stdout",
          "text": [
            "введите стр: Jdhshddh\n",
            "введите смвл: =\n",
            "==========\n",
            "=Jdhshddh=\n",
            "==========\n"
          ]
        }
      ]
    },
    {
      "cell_type": "markdown",
      "source": [
        "# №5.2.9\n",
        "Напишите функции для перевода числа (N∈[2;16]):\n",
        "\n",
        "из 10-й системы счисления в N-ю;\n",
        "\n",
        "из N-й системы счисления в 10-ю."
      ],
      "metadata": {
        "id": "u4oI47ReJ1ac"
      }
    },
    {
      "cell_type": "code",
      "source": [
        "\n",
        "osnova = '0123456789ABCDEF'\n",
        "def to_sist(numb, sist):\n",
        "  f = ''\n",
        "  while numb>0:\n",
        "    new = numb % sist\n",
        "    f = osnova[new] + f\n",
        "    numb = numb // sist\n",
        "  return f\n",
        "\n",
        "def from_sist(numb, sist):\n",
        "    f = ''\n",
        "    n = 0\n",
        "    done = 0\n",
        "    while numb >= 1:\n",
        "      new1 = numb%10 * (sist**n)\n",
        "      n += 1\n",
        "      done += new1\n",
        "      numb = numb // 10\n",
        "    return done"
      ],
      "metadata": {
        "id": "sk2IKjV6HDMm"
      },
      "execution_count": 23,
      "outputs": []
    },
    {
      "cell_type": "code",
      "source": [
        "a = to_sist(10, 3)\n",
        "b = from_sist(1010, 3)\n",
        "\n",
        "print(a)\n",
        "print(b)"
      ],
      "metadata": {
        "colab": {
          "base_uri": "https://localhost:8080/"
        },
        "id": "y58WxIIkHZqo",
        "outputId": "d17970bc-ee94-4eca-f2a5-efb4c8c9cdfb"
      },
      "execution_count": 24,
      "outputs": [
        {
          "output_type": "stream",
          "name": "stdout",
          "text": [
            "101\n",
            "30\n"
          ]
        }
      ]
    },
    {
      "cell_type": "markdown",
      "source": [
        "# №5.2.10\n",
        "Для введенного предложения выведите статистику символ=количество. Регистр букв не учитывается."
      ],
      "metadata": {
        "id": "VmdEECmbv5U8"
      }
    },
    {
      "cell_type": "code",
      "source": [
        "from collections import Counter\n"
      ],
      "metadata": {
        "id": "poWiBQztFdo3"
      },
      "execution_count": null,
      "outputs": []
    },
    {
      "cell_type": "code",
      "source": [],
      "metadata": {
        "id": "gX8kT-2svaPF"
      },
      "execution_count": null,
      "outputs": []
    },
    {
      "cell_type": "markdown",
      "source": [
        "# №5.2.11\n",
        "Используя шифр Цезаря (достаточно только букв русского алфавита, знаки препинания не изменяются), зашифруйте, а затем расшифруйте введенную строку."
      ],
      "metadata": {
        "id": "n25PdwLpvQ-P"
      }
    },
    {
      "cell_type": "code",
      "source": [
        "def ceasar(text, shift):\n",
        "  letters = [chr(i) for i in range(ord('а'), ord('я') + 1)]\n",
        "  letters_upper = [chr(i) for i in range(ord('А'), ord('Я') + 1)]\n",
        "  res, n = [], \"\"\n",
        "  for i in range(len(text)):\n",
        "    if text[i] in letters:\n",
        "            n = letters\n",
        "    elif text[i] in letters_upper:\n",
        "        n = letters_upper\n",
        "    else:\n",
        "        res.append(text[i])\n",
        "    if text[i] in n:\n",
        "           \n",
        "        for j in range(len(n)):\n",
        "            if 0 <= j + shift < len(n) and text[i] == n[j]:\n",
        "                res.append(n[j + shift])\n",
        "            elif j + shift >= len(n) and text[i] == n[j]:\n",
        "                res.append(n[(1 - j - shift) % (len(n) - 1)])\n",
        "            elif j + shift < 0 and text[i] == n[j]:\n",
        "                res.append(n[(j + shift) % len(n)])\n",
        "  return ''.join(res)\n",
        "\n",
        "text = input('Введите предложение: ')\n",
        "shift = int(input('Введите сдвиг: '))\n",
        "\n",
        "encoded = ceasar(text, shift)\n",
        "decoded = text\n",
        "print(\"Зашифрованная строка:\", encoded)\n",
        "print(\"Расшифрованная строка:\", decoded)\n",
        "# --------------\n",
        "# Пример вывода:\n",
        "#\n",
        "# Введите предложение: ПрограММиРОВание С++\n",
        "# Введите сдвиг: 4\n",
        "# Зашифрованная строка: УфтзфдРРмФТЖдсмй Х++\n",
        "# Расшифрованная строка: ПрограММиРОВание С++"
      ],
      "metadata": {
        "id": "KV4_-EPVPnFs",
        "colab": {
          "base_uri": "https://localhost:8080/"
        },
        "outputId": "f397e7c0-6093-4367-83a4-8c259df1467c"
      },
      "execution_count": null,
      "outputs": [
        {
          "output_type": "stream",
          "name": "stdout",
          "text": [
            "Введите предложение: абвгджз\n",
            "Введите сдвиг: 4\n",
            "Зашифрованная строка: дежзикл\n",
            "Расшифрованная строка: абвгджз\n"
          ]
        }
      ]
    },
    {
      "cell_type": "markdown",
      "source": [
        "# №5.2.14\n",
        "Напишите функцию, которая принимает неограниченное количество числовых аргументов и возвращает кортеж из двух списков: \n",
        "\n",
        "отрицательных значений (отсортирован по убыванию);\n",
        " \n",
        "неотрицательных значений (отсортирован по возрастанию).\n"
      ],
      "metadata": {
        "id": "quhZG2gqlw6E"
      }
    },
    {
      "cell_type": "code",
      "source": [
        "def split_numbers(*args):\n",
        "  pos1=[]\n",
        "  neg=[]\n",
        "  for i in args:\n",
        "    if i > -1:\n",
        "      pos1.append(i)\n",
        "      pos=sorted(pos1)\n",
        "    elif i < 0:\n",
        "      neg.append(i)\n",
        "  return neg,pos\n",
        "print(split_numbers(1, 4, -5, 0, -33))\n",
        "\n",
        "# --------------\n",
        "# Пример вывода:\n",
        "#\n",
        "# ([-5, -33], [0, 1, 4])"
      ],
      "metadata": {
        "id": "iqNm_7Xll05a",
        "colab": {
          "base_uri": "https://localhost:8080/"
        },
        "outputId": "c4bfcb3a-9c17-41d3-f33d-ca6a7f21e337"
      },
      "execution_count": null,
      "outputs": [
        {
          "output_type": "stream",
          "name": "stdout",
          "text": [
            "([-5, -33], [0, 1, 4])\n"
          ]
        }
      ]
    },
    {
      "cell_type": "markdown",
      "source": [
        "# №5.2.16\n",
        "\n",
        "Составьте две функции для возведения числа в степень: один из вариантов реализуйте в рекурсивном стиле."
      ],
      "metadata": {
        "id": "IlDgPRxxQugx"
      }
    },
    {
      "cell_type": "code",
      "source": [
        "import time \n",
        "a = 2\n",
        "n = 700\n",
        "start_time=time.time()"
      ],
      "metadata": {
        "id": "8JEzJREkJYOS",
        "colab": {
          "base_uri": "https://localhost:8080/"
        },
        "outputId": "c7cc174d-b500-4727-c17f-ea7ad31f26b7"
      },
      "execution_count": null,
      "outputs": [
        {
          "output_type": "stream",
          "name": "stdout",
          "text": [
            "5260135901548373507240989882880128665550339802823173859498280903068732154297080822113666536277588451226982968856178217713019432250183803863127814770651880849955223671128444598191663757884322717271293251735781376 0.00101470947265625\n"
          ]
        }
      ]
    },
    {
      "cell_type": "markdown",
      "source": [
        "#5.2.17\n",
        "5.2.17\n",
        "Дано наутральное число. Напишите рекурсивные функции для определения:\n",
        "\n",
        "-суммы цифр числа.\n",
        "\n",
        "-количества цифр в числе."
      ],
      "metadata": {
        "id": "1yWr4PbaJyAm"
      }
    },
    {
      "cell_type": "code",
      "source": [
        "def chis_sum(value):\n",
        "  if value == 0:\n",
        "    return 0\n",
        "  else:\n",
        "    return (value%10) + chis_sum(value//10) \n",
        "\n",
        "\n",
        "\n",
        "def chis_count(value):\n",
        "  if value == 1:\n",
        "    return 1\n",
        "  else:\n",
        "    return value**0 + chis_count(value//10)"
      ],
      "metadata": {
        "id": "Q0GpcQRjKrxT"
      },
      "execution_count": 19,
      "outputs": []
    },
    {
      "cell_type": "code",
      "source": [
        "print(chis_sum(12345))\n",
        "print(chis_count(12345))\n",
        "\n",
        "# --------------\n",
        "# Пример вывода:\n",
        "#\n",
        "# 15\n",
        "# 5"
      ],
      "metadata": {
        "colab": {
          "base_uri": "https://localhost:8080/"
        },
        "id": "vptvaV3wKxaf",
        "outputId": "3ea4105a-9652-4b5d-ab89-df08a814ee6a"
      },
      "execution_count": 20,
      "outputs": [
        {
          "output_type": "stream",
          "name": "stdout",
          "text": [
            "15\n",
            "5\n"
          ]
        }
      ]
    }
  ]
}