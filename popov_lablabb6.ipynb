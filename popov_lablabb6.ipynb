{
  "nbformat": 4,
  "nbformat_minor": 0,
  "metadata": {
    "colab": {
      "provenance": [],
      "authorship_tag": "ABX9TyPM/ht0dLR5b8KMiAk0UVhf",
      "include_colab_link": true
    },
    "kernelspec": {
      "name": "python3",
      "display_name": "Python 3"
    },
    "language_info": {
      "name": "python"
    }
  },
  "cells": [
    {
      "cell_type": "markdown",
      "metadata": {
        "id": "view-in-github",
        "colab_type": "text"
      },
      "source": [
        "<a href=\"https://colab.research.google.com/github/PopovAE12/real11/blob/main/popov_lablabb6.ipynb\" target=\"_parent\"><img src=\"https://colab.research.google.com/assets/colab-badge.svg\" alt=\"Open In Colab\"/></a>"
      ]
    },
    {
      "cell_type": "markdown",
      "source": [
        "\n",
        "Программирование на языке высокого уровня (Python). https://www.yuripetrov.ru/edu/python\n",
        "\n",
        "Попов Александр Евгеньевич\n",
        "\n",
        "Группа: АДЭУ-221\n",
        "\n",
        "E-mail: Alex04priest@gmail.com\n"
      ],
      "metadata": {
        "id": "HFihO3QDEmDv"
      }
    },
    {
      "cell_type": "markdown",
      "source": [
        "# №6.2.1\n",
        "Что выполняет приведенная функция?\n",
        "\n",
        "Какова вычислительная сложность алгоритма (наихудшая оценка, O-нотацию)?"
      ],
      "metadata": {
        "id": "2Wt7kUNIZSB3"
      }
    },
    {
      "cell_type": "code",
      "execution_count": null,
      "metadata": {
        "colab": {
          "base_uri": "https://localhost:8080/"
        },
        "id": "xsbY_-R7XhOV",
        "outputId": "94715b64-c0ef-4671-f084-699be002496e"
      },
      "outputs": [
        {
          "output_type": "execute_result",
          "data": {
            "text/plain": [
              "[-2, -2, -2, 1, 1, 2, 2, 2, 2, 2, 3, 3, 3, 4, 4, 5, 65]"
            ]
          },
          "metadata": {},
          "execution_count": 1
        }
      ],
      "source": [
        "def foo(a):\n",
        "  \"\"\"\n",
        "  Ввод списка,сортируемого от меньшего к большему.\n",
        "\n",
        "   Сложность: O(N^2)\n",
        "  \"\"\"\n",
        "  for i in range(len(a), 0, -1): # O(N) + O(1) = O(N)\n",
        "    for j in range(1, i): # O(N)\n",
        "      if a[j-1] > a[j]: # O(1) + O(1) = 2*O(1) = O(1)\n",
        "        a[j-1], a[j] = a[j], a[j-1] # O(1) + O(1) = 2*O(1) = O(1)\n",
        "  return a # O(1)\n",
        "\n",
        "# O(N) * O(N) + O(1) + O(1) + O(1) = O(N^2) + 3*O(1) = O(N^2)\n",
        "\n",
        "a = [1, 2, 3, 4, 2, 1, 3, 4, 3, 5, -2, -2, 2, -2, 65, 2, 2]\n",
        "foo(a)"
      ]
    },
    {
      "cell_type": "markdown",
      "source": [
        "# №6.2.2\n",
        "\n",
        "Что выполняет приведенная функция?\n",
        "\n",
        "Какова вычислительная сложность алгоритма (наихудшая оценка, O-нотацию)?"
      ],
      "metadata": {
        "id": "SEgmNn5zb_31"
      }
    },
    {
      "cell_type": "code",
      "source": [
        "def foo(i):\n",
        "  \"\"\"\n",
        "  Вводится целое число.\n",
        "  Преобразование integer в string.\n",
        "\n",
        "  N = 1\n",
        " Сложность: O(N)\n",
        "  \"\"\"\n",
        "  digits = \"0123456789\" # O(1)\n",
        "  if i == 0: # 2*O(1)\n",
        "    return \"0\" # O(1)\n",
        "  result = \"\" # O(1)\n",
        "  while i > 0: # O(N) + O(1) = O(N)\n",
        "    result = digits[i%10] + result # O(1) + O(1) + O(1) = O(1)\n",
        "    i = i // 10 # O(1) + O(1) = O(1)\n",
        "  return result # O(1)\n",
        "\n",
        "# O(1) + O(1) + O(N) * O(1) = 2*O(1) + O(N) = O(1) + O(N) = O(N)"
      ],
      "metadata": {
        "id": "8aKY8aFEcAF4"
      },
      "execution_count": null,
      "outputs": []
    },
    {
      "cell_type": "markdown",
      "source": [
        "# №6.2.3\n",
        "\n",
        "Что выполняет приведенная функция?\n",
        "\n",
        "Какова вычислительная сложность алгоритма (наихудшая оценка, O-нотацию)?"
      ],
      "metadata": {
        "id": "mvQm6RETcMwZ"
      }
    },
    {
      "cell_type": "code",
      "source": [
        "def foo(s):\n",
        "  \"\"\"\n",
        "  Вводная переменная - строка.\n",
        "  Функция вытаскивает все цифры из строки и преобразует их в целое число\n",
        "\n",
        "  N = len(s)\n",
        "  Общая сложность: O(N^2)\n",
        "  \"\"\"\n",
        "  val = 0 # O(1)————————————————————————\n",
        "  for c in s: # O(N)————————————————————\n",
        "    if c.isdigit(): # O(N)——————————————\n",
        "      val += int(c) # O(1) + O(1) = O(1)\n",
        "  return val # O(1)—————————————————————\n",
        "\n",
        "# O(1) + O(N) * O(N) * O(1) = O(N^2)\n"
      ],
      "metadata": {
        "id": "cmxYkaDEcNFB"
      },
      "execution_count": null,
      "outputs": []
    },
    {
      "cell_type": "markdown",
      "source": [
        "# №6.2.4\n",
        "\n",
        "Что выполняет приведенная функция?\n",
        "\n",
        "Какова вычислительная сложность алгоритма (наихудшая оценка, O-нотацию)?*Курсив*"
      ],
      "metadata": {
        "id": "dNTUEZLecNS7"
      }
    },
    {
      "cell_type": "code",
      "source": [
        "def foo(s):\n",
        "  \"\"\"\n",
        "  Вводится строка.\n",
        "  Цифры из строки преобразуются в целое число\n",
        "\n",
        "  N = len(s)\n",
        " Сложность: O(N^2)\n",
        "  \"\"\"\n",
        "  val = 0 # O(1)————————————————————————\n",
        "  for c in s: # O(N)————————————————————\n",
        "    if c.isdigit(): # O(N)——————————————\n",
        "      val += int(c) # O(1) + O(1) = O(1)\n",
        "  return val # O(1)—————————————————————\n",
        "\n",
        "# O(1) + O(N) * O(N) * O(1) = O(N^2)\n"
      ],
      "metadata": {
        "id": "_U_rn2pOXFvG"
      },
      "execution_count": null,
      "outputs": []
    },
    {
      "cell_type": "markdown",
      "source": [
        "# №6.2.5\n",
        "\n",
        "Что выполняет приведенная функция?\n",
        "\n",
        "Какова вычислительная сложность алгоритма (наихудшая оценка, O-нотацию)?"
      ],
      "metadata": {
        "id": "kO9bptzUcPiZ"
      }
    },
    {
      "cell_type": "code",
      "source": [
        "def foo(nums):\n",
        "  \"\"\"\n",
        "  Вводится список.\n",
        "  Он роверяется на наличие четных цифр внутри.\n",
        "  \n",
        "  N = len(nums)\n",
        "  Сложность: O(N)\n",
        "  \"\"\"\n",
        "  for x in nums: # O(N)——————————————————————————\n",
        "    if x % 2 == 0: # O(1) + O(1) = 2*O(1) = O(1)\n",
        "      return True # O(1)—————————————————————————\n",
        "  else:\n",
        "    return False # O(1)——————————————————————————\n",
        "\n",
        "# O(N) * O(1) * O(1) = O(N)"
      ],
      "metadata": {
        "id": "ARLlRNoYcP1h"
      },
      "execution_count": null,
      "outputs": []
    },
    {
      "cell_type": "markdown",
      "source": [
        "# №6.2.6\n",
        "\n",
        "Что выполняет приведенная функция?\n",
        "\n",
        "Какова вычислительная сложность алгоритма (наихудшая оценка, O-нотацию)?"
      ],
      "metadata": {
        "id": "q-blYjKvcTT-"
      }
    },
    {
      "cell_type": "code",
      "source": [
        "def foo(nums):\n",
        "  \"\"\"\n",
        "  Вводится список.\n",
        "  Выводится суммуа первого элемента и последнего,затем возводя в 2-ю степень.\n",
        "\n",
        "  N = len(nums)\n",
        "  Сложность: O(1)\n",
        "  \"\"\"\n",
        "  return (nums[0] + nums[-1] ** 2) # O(1) + O(1) = 2*O(1) = O(1)\n",
        "\n",
        "# O(1) + O(1) = 2*O(1) = O(1)"
      ],
      "metadata": {
        "id": "mo2HVZMycTf8"
      },
      "execution_count": null,
      "outputs": []
    },
    {
      "cell_type": "markdown",
      "source": [
        "# №6.2.7\n",
        "\n",
        "Что выполняет приведенная функция?\n",
        "\n",
        "Какова вычислительная сложность алгоритма (наихудшая оценка, O-нотацию)?"
      ],
      "metadata": {
        "id": "SYcSFZBIcXd0"
      }
    },
    {
      "cell_type": "code",
      "source": [
        "def foo(low, high):\n",
        "  \"\"\"\n",
        "  Вводятся целые числа.\n",
        "  Угадывает заданное число пользователя.\n",
        "\n",
        "  N = 2\n",
        " Сложность: O(N)\n",
        "  \"\"\"\n",
        "  guessing = True # O(1)—————————————————————————————————————————————————————\n",
        "  while guessing: # O(N)—————————————————————————————————————————————————————\n",
        "    guess = (low + high) // 2 # O(1) + O(1) = 2*O(1) = O(1)——————————————————\n",
        "    print(\"Загаданное число {0}?\".format(guess)) # O(1)——————————————————————\n",
        "    pointer = input(\n",
        "      \"Введите '+', если Ваше число меньше.\\n\"\n",
        "      \"Введите '-' если Ваше число больше.\\n\"\n",
        "      \"Введите '=', если я угадал.\\n\").lower() # O(1)—————————————————————————\n",
        "    if pointer == \"+\": # O(len(pointer) + O(1) = O(1) + O(1) = 2*O(1) = O(1)—\n",
        "      high = guess # O(1)—————————————————————————————————————————————————————\n",
        "    elif pointer == \"-\": # O(len(pointer) + O(1) = O(1) + O(1) = 2*O(1) = O(1)\n",
        "      low = guess # O(1)——————————————————————————————————————————————————————\n",
        "    elif pointer == \"=\": # O(len(pointer) + O(1) = O(1) + O(1) = 2*O(1) = O(1)\n",
        "      guessing = False # O(1)—————————————————————————————————————————————————\n",
        "    else:\n",
        "      print(\"Введите '+', '-' или '='.\") # O(1)———————————————————————————————\n",
        "\n",
        "  return guess # O(1)—————————————————————————————————————————————————————————\n",
        "\n",
        "# O(1) + O(N) * (O(1) + O(1) + O(1) + 3*O(1)*O(1)) = O(1) + O(N) * 6*O(1) = O(N)\n",
        "\n",
        "low, high = 0, 100\n",
        "print(\"Пожалуйста, загадайте число от {0} до {1}!\".format(low, high))\n",
        "guess = foo(low, high)\n",
        "print(\"Игра окончена, Вы загадали число: {0}.\".format(guess))"
      ],
      "metadata": {
        "id": "82GxRbQKcXvK"
      },
      "execution_count": null,
      "outputs": []
    }
  ]
}