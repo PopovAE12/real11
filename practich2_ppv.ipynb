{
  "nbformat": 4,
  "nbformat_minor": 0,
  "metadata": {
    "colab": {
      "provenance": [],
      "authorship_tag": "ABX9TyM8rfc3owzzuKGK5Mg9aQui",
      "include_colab_link": true
    },
    "kernelspec": {
      "name": "python3",
      "display_name": "Python 3"
    },
    "language_info": {
      "name": "python"
    }
  },
  "cells": [
    {
      "cell_type": "markdown",
      "metadata": {
        "id": "view-in-github",
        "colab_type": "text"
      },
      "source": [
        "<a href=\"https://colab.research.google.com/github/PopovAE12/real11/blob/main/practich2_ppv.ipynb\" target=\"_parent\"><img src=\"https://colab.research.google.com/assets/colab-badge.svg\" alt=\"Open In Colab\"/></a>"
      ]
    },
    {
      "cell_type": "code",
      "source": [
        "class Animl:\n",
        "    def __init__(self, name, weight, sound):\n",
        "        self.name = name\n",
        "        self.weight = weight\n",
        "        self.sound = sound\n",
        "        \n",
        "    def nakormit(self):\n",
        "        print(f\"{self.name} накормлен\")\n",
        "\n",
        "    def napoit(self):\n",
        "        print(f\"{self.name} напоен\")\n",
        "        \n",
        "class korova(Animl):\n",
        "    def __init__(self, name, weight):\n",
        "        super().__init__(name, weight, \"Мууу\")\n",
        "        \n",
        "    def podoit(self):\n",
        "        print(f\"{self.name} подоена\")\n",
        "        \n",
        "class kozel(Animl):\n",
        "    def __init__(self, name, weight):\n",
        "        super().__init__(name, weight, \"Меее\")\n",
        "        \n",
        "    def podoit(self):\n",
        "        print(f\"{self.name} подоен\")\n",
        "        \n",
        "class ovca(Animl):\n",
        "    def __init__(self, name, weight):\n",
        "        super().__init__(name, weight, \"Беее\")\n",
        "        \n",
        "    def podstrich(self):\n",
        "        print(f\"{self.name} пострижена\")\n",
        "        \n",
        "class kurica(Animl):\n",
        "    def __init__(self, name, weight):\n",
        "        super().__init__(name, weight, \"Ко-ко-ко\")\n",
        "        \n",
        "    def sobrat_yaica(self):\n",
        "        print(f\"{self.name} яйца собраны\")\n",
        "        \n",
        "class utka(Animl):\n",
        "    def __init__(self, name, weight):\n",
        "        super().__init__(name, weight, \"Кря-кря\")\n",
        "        \n",
        "    def sobrat_yaica(self):\n",
        "        print(f\"{self.name} яйца собарны\")\n",
        "        \n",
        "class gus(Animl):\n",
        "    def __init__(self, name, weight):\n",
        "        super().__init__(name, weight, \"Га-га-га\")\n",
        "        \n",
        "    def sobrat_yaica(self):\n",
        "        print(f\"{self.name} яйца собраны\")\n",
        "    \n",
        "if __name__ == \"__main__\":\n",
        "    korova = korova(\"Манька\", 340)\n",
        "    kozel1 = kozel(\"Рога\", 43)\n",
        "    kozel2 = kozel(\"Копыта\", 50)\n",
        "    ovca1 = ovca(\"Барашек\", 76)\n",
        "    ovca2 = ovca(\"Кудрявый\", 64)\n",
        "    kurica1 = kurica(\"Ко-Ко\", 3)\n",
        "    kurica2 = kurica(\"Кукареку\", 3)\n",
        "    utka = utka(\"Кряква\", 4)\n",
        "    gus1 = gus(\"Серый\", 7)\n",
        "    gus2 = gus(\"Белый\", 8)\n",
        "\n",
        "    animls = [korova, ovca1, ovca2, kurica1, kurica2, utka, gus1, gus2]\n",
        "\n",
        "    total_weight = 0\n",
        "    maxheavy_animl = None\n",
        "    for animl in animls:\n",
        "        total_weight += animl.weight\n",
        "        if maxheavy_animl is None or animl.weight > maxheavy_animl.weight:\n",
        "            maxheavy_animl = animl\n",
        "\n",
        "    print(f\"Общий вес животных: {total_weight} кг\")\n",
        "    print(f\"Самое тяжелое животное: {maxheavy_animl.name}\")"
      ],
      "metadata": {
        "colab": {
          "base_uri": "https://localhost:8080/"
        },
        "id": "klL4EgALdR91",
        "outputId": "fdd5c45d-981e-4874-be06-13ef157323b5"
      },
      "execution_count": 3,
      "outputs": [
        {
          "output_type": "stream",
          "name": "stdout",
          "text": [
            "Общий вес животных: 505 кг\n",
            "Самое тяжелое животное: Манька\n"
          ]
        }
      ]
    },
    {
      "cell_type": "code",
      "source": [],
      "metadata": {
        "id": "K4JnoG0djdSo"
      },
      "execution_count": null,
      "outputs": []
    }
  ]
}