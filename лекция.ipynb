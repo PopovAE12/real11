{
  "nbformat": 4,
  "nbformat_minor": 0,
  "metadata": {
    "colab": {
      "provenance": [],
      "include_colab_link": true
    },
    "kernelspec": {
      "name": "python3",
      "display_name": "Python 3"
    },
    "language_info": {
      "name": "python"
    }
  },
  "cells": [
    {
      "cell_type": "markdown",
      "metadata": {
        "id": "view-in-github",
        "colab_type": "text"
      },
      "source": [
        "<a href=\"https://colab.research.google.com/github/PopovAE12/real11/blob/main/%D0%BB%D0%B5%D0%BA%D1%86%D0%B8%D1%8F.ipynb\" target=\"_parent\"><img src=\"https://colab.research.google.com/assets/colab-badge.svg\" alt=\"Open In Colab\"/></a>"
      ]
    },
    {
      "cell_type": "markdown",
      "source": [
        "#1.3.1"
      ],
      "metadata": {
        "id": "iO1vxhysujBB"
      }
    },
    {
      "cell_type": "code",
      "execution_count": 1,
      "metadata": {
        "colab": {
          "base_uri": "https://localhost:8080/"
        },
        "id": "VVOUit6pubcR",
        "outputId": "b8689aff-b46f-4254-f59e-0b176b29d2a1"
      },
      "outputs": [
        {
          "output_type": "execute_result",
          "data": {
            "text/plain": [
              "str"
            ]
          },
          "metadata": {},
          "execution_count": 1
        }
      ],
      "source": [
        "s = 'Это строка'\n",
        "type(s)"
      ]
    },
    {
      "cell_type": "code",
      "source": [
        "x = 42 # Создание переменной целочисленного типа\n",
        "type(x)"
      ],
      "metadata": {
        "colab": {
          "base_uri": "https://localhost:8080/"
        },
        "id": "3DfE6b-2uxdP",
        "outputId": "37184bda-82df-45bc-a625-6fd2fb02388a"
      },
      "execution_count": null,
      "outputs": [
        {
          "output_type": "execute_result",
          "data": {
            "text/plain": [
              "int"
            ]
          },
          "metadata": {},
          "execution_count": 3
        }
      ]
    },
    {
      "cell_type": "code",
      "source": [
        "'300' + 'cc'"
      ],
      "metadata": {
        "colab": {
          "base_uri": "https://localhost:8080/",
          "height": 37
        },
        "id": "0HI3XneOu4Vm",
        "outputId": "04ca500e-999b-4acb-e8ee-8a1958d93027"
      },
      "execution_count": null,
      "outputs": [
        {
          "output_type": "execute_result",
          "data": {
            "text/plain": [
              "'300cc'"
            ],
            "application/vnd.google.colaboratory.intrinsic+json": {
              "type": "string"
            }
          },
          "metadata": {},
          "execution_count": 4
        }
      ]
    },
    {
      "cell_type": "code",
      "source": [
        "300 + 400"
      ],
      "metadata": {
        "colab": {
          "base_uri": "https://localhost:8080/"
        },
        "id": "4lng9MaXvAea",
        "outputId": "4f47a405-435e-43ff-b0ed-d5360a1ceccf"
      },
      "execution_count": null,
      "outputs": [
        {
          "output_type": "execute_result",
          "data": {
            "text/plain": [
              "700"
            ]
          },
          "metadata": {},
          "execution_count": 5
        }
      ]
    },
    {
      "cell_type": "code",
      "source": [
        "int('300') + 400"
      ],
      "metadata": {
        "colab": {
          "base_uri": "https://localhost:8080/"
        },
        "id": "stxlNLr2vFXM",
        "outputId": "e4feb6d8-d6f7-4875-be00-1d46da7d896c"
      },
      "execution_count": null,
      "outputs": [
        {
          "output_type": "execute_result",
          "data": {
            "text/plain": [
              "700"
            ]
          },
          "metadata": {},
          "execution_count": 6
        }
      ]
    },
    {
      "cell_type": "markdown",
      "source": [
        "#1.3.2 Уникальный идентификатор"
      ],
      "metadata": {
        "id": "xaP_BwO8vLpR"
      }
    },
    {
      "cell_type": "code",
      "source": [
        "y = 2.5 \n",
        "id(y) #уникальный идентификатор - адрес объекта в памяти"
      ],
      "metadata": {
        "colab": {
          "base_uri": "https://localhost:8080/"
        },
        "id": "-r_QSVKfvbY0",
        "outputId": "b288e5f6-a1c1-4d92-dbb3-003ca18e34b5"
      },
      "execution_count": null,
      "outputs": [
        {
          "output_type": "execute_result",
          "data": {
            "text/plain": [
              "140475982821872"
            ]
          },
          "metadata": {},
          "execution_count": 8
        }
      ]
    },
    {
      "cell_type": "code",
      "source": [
        "z = 2.5\n",
        "id(z) #уникальный идентификатор - адрес объекта в памяти"
      ],
      "metadata": {
        "colab": {
          "base_uri": "https://localhost:8080/"
        },
        "id": "6XXbg7nZvgr4",
        "outputId": "12bddaf2-a151-4373-c23f-261d92b55d45"
      },
      "execution_count": null,
      "outputs": [
        {
          "output_type": "execute_result",
          "data": {
            "text/plain": [
              "140475982822992"
            ]
          },
          "metadata": {},
          "execution_count": 9
        }
      ]
    },
    {
      "cell_type": "markdown",
      "source": [
        "#1.3.3 Содержимое объекта: данные и атрибуты"
      ],
      "metadata": {
        "id": "zHOZORKbvq-e"
      }
    },
    {
      "cell_type": "code",
      "source": [
        "x = 42\n",
        "x"
      ],
      "metadata": {
        "colab": {
          "base_uri": "https://localhost:8080/"
        },
        "id": "7YhLcAvSvx12",
        "outputId": "8d5bbc47-b50f-404e-f9bf-191c0bde3610"
      },
      "execution_count": null,
      "outputs": [
        {
          "output_type": "execute_result",
          "data": {
            "text/plain": [
              "42"
            ]
          },
          "metadata": {},
          "execution_count": 13
        }
      ]
    },
    {
      "cell_type": "code",
      "source": [
        "x.imag #imag (мнимая часть) - атрибут x, содержащий вспомогательную информацию"
      ],
      "metadata": {
        "colab": {
          "base_uri": "https://localhost:8080/"
        },
        "id": "CvT50GX9w04_",
        "outputId": "6512623f-254f-46d9-baec-7917339bae8c"
      },
      "execution_count": null,
      "outputs": [
        {
          "output_type": "execute_result",
          "data": {
            "text/plain": [
              "0"
            ]
          },
          "metadata": {},
          "execution_count": 14
        }
      ]
    },
    {
      "cell_type": "code",
      "source": [
        "x.__class__ #__class__(тип) - атрибут x, содержащий вспомогательную информацию"
      ],
      "metadata": {
        "colab": {
          "base_uri": "https://localhost:8080/"
        },
        "id": "gF80S7N6wGav",
        "outputId": "25262257-c881-454b-d187-cf2f06c6609c"
      },
      "execution_count": null,
      "outputs": [
        {
          "output_type": "execute_result",
          "data": {
            "text/plain": [
              "int"
            ]
          },
          "metadata": {},
          "execution_count": 12
        }
      ]
    },
    {
      "cell_type": "markdown",
      "source": [
        "#1.3.4 Методы"
      ],
      "metadata": {
        "id": "Huw-eTn0x4W-"
      }
    },
    {
      "cell_type": "markdown",
      "source": [
        "1)\n"
      ],
      "metadata": {
        "id": "blqQxi2z0Nu5"
      }
    },
    {
      "cell_type": "code",
      "source": [
        "x = ['foo', 'bar']\n",
        "'''\n",
        "Функция callable() возвращает True , если указанный объект вызываемый, в противном случае она возвращает значение False.\n",
        "'''\n",
        "callable(x.append) #append - атрибут x, который может вызываться как функция (метод - функция, связанная с объектом)"
      ],
      "metadata": {
        "colab": {
          "base_uri": "https://localhost:8080/"
        },
        "id": "Czu3VzvXx8oI",
        "outputId": "29c150da-e47e-4814-b777-33f28f41a367"
      },
      "execution_count": null,
      "outputs": [
        {
          "output_type": "execute_result",
          "data": {
            "text/plain": [
              "True"
            ]
          },
          "metadata": {},
          "execution_count": 18
        }
      ]
    },
    {
      "cell_type": "code",
      "source": [
        "callable(x.__doc__)"
      ],
      "metadata": {
        "colab": {
          "base_uri": "https://localhost:8080/"
        },
        "id": "v_q97lCiyO9V",
        "outputId": "eda1cda0-0140-4c98-cf47-9d915e069502"
      },
      "execution_count": null,
      "outputs": [
        {
          "output_type": "execute_result",
          "data": {
            "text/plain": [
              "False"
            ]
          },
          "metadata": {},
          "execution_count": 16
        }
      ]
    },
    {
      "cell_type": "markdown",
      "source": [
        "2)"
      ],
      "metadata": {
        "id": "OzEY6LK80RuF"
      }
    },
    {
      "cell_type": "code",
      "source": [
        "x = ['a', 'b']\n",
        "x.append('c')\n",
        "print(x)"
      ],
      "metadata": {
        "colab": {
          "base_uri": "https://localhost:8080/"
        },
        "id": "sTRSBZCvzvBd",
        "outputId": "89861d71-3fdc-4337-bd39-6f48f6ab83cb"
      },
      "execution_count": null,
      "outputs": [
        {
          "output_type": "stream",
          "name": "stdout",
          "text": [
            "['a', 'b', 'c']\n"
          ]
        }
      ]
    },
    {
      "cell_type": "markdown",
      "source": [
        "3)"
      ],
      "metadata": {
        "id": "0qKRxIAC0UdT"
      }
    },
    {
      "cell_type": "code",
      "source": [
        "s = 'Thisisastring'\n",
        "s.upper()"
      ],
      "metadata": {
        "colab": {
          "base_uri": "https://localhost:8080/",
          "height": 37
        },
        "id": "H6wJDY3Uzx5n",
        "outputId": "2c3d5541-6296-4acb-ff42-64396c1aa9ce"
      },
      "execution_count": null,
      "outputs": [
        {
          "output_type": "execute_result",
          "data": {
            "text/plain": [
              "'THISISASTRING'"
            ],
            "application/vnd.google.colaboratory.intrinsic+json": {
              "type": "string"
            }
          },
          "metadata": {},
          "execution_count": 25
        }
      ]
    },
    {
      "cell_type": "code",
      "source": [
        "s.lower()"
      ],
      "metadata": {
        "colab": {
          "base_uri": "https://localhost:8080/",
          "height": 37
        },
        "id": "PRu1Rim90D9o",
        "outputId": "7490f914-d8ef-4528-c68c-530c43fb7fd5"
      },
      "execution_count": null,
      "outputs": [
        {
          "output_type": "execute_result",
          "data": {
            "text/plain": [
              "'thisisastring'"
            ],
            "application/vnd.google.colaboratory.intrinsic+json": {
              "type": "string"
            }
          },
          "metadata": {},
          "execution_count": 26
        }
      ]
    },
    {
      "cell_type": "code",
      "source": [
        "s.replace('This', 'That')"
      ],
      "metadata": {
        "colab": {
          "base_uri": "https://localhost:8080/",
          "height": 37
        },
        "id": "blOUDutR0Joq",
        "outputId": "baa2d350-0c74-4723-c98e-81e68e015bd1"
      },
      "execution_count": null,
      "outputs": [
        {
          "output_type": "execute_result",
          "data": {
            "text/plain": [
              "'Thatisastring'"
            ],
            "application/vnd.google.colaboratory.intrinsic+json": {
              "type": "string"
            }
          },
          "metadata": {},
          "execution_count": 27
        }
      ]
    },
    {
      "cell_type": "markdown",
      "source": [
        "4)"
      ],
      "metadata": {
        "id": "o3pW0KwE0eAT"
      }
    },
    {
      "cell_type": "code",
      "source": [
        "x = ['a', 'b']\n",
        "x[0] = 'aa'\n",
        "print(x)\n",
        "\n",
        "# Присвоение элемента с помощью обозначения квадратных скобок"
      ],
      "metadata": {
        "colab": {
          "base_uri": "https://localhost:8080/"
        },
        "id": "CH4r2ngx0ewO",
        "outputId": "a32099dd-d3ce-4d1a-a3fe-6a77dacb80cf"
      },
      "execution_count": null,
      "outputs": [
        {
          "output_type": "stream",
          "name": "stdout",
          "text": [
            "['aa', 'b']\n"
          ]
        }
      ]
    },
    {
      "cell_type": "code",
      "source": [
        "x = ['a', 'b']\n",
        "x.__setitem__(0, 'aa') # Equivalent to x[0] = 'aa' \n",
        "#метод __setitem_\n",
        "print(x)"
      ],
      "metadata": {
        "colab": {
          "base_uri": "https://localhost:8080/"
        },
        "id": "ncWNjluT0okX",
        "outputId": "1afbcd4a-639a-401e-aebd-619d59a9d406"
      },
      "execution_count": null,
      "outputs": [
        {
          "output_type": "stream",
          "name": "stdout",
          "text": [
            "['aa', 'b']\n"
          ]
        }
      ]
    },
    {
      "cell_type": "markdown",
      "source": [
        "#1.4 Определение собственных классов и объектов в Python"
      ],
      "metadata": {
        "id": "f0NHbu6N1vSb"
      }
    },
    {
      "cell_type": "code",
      "source": [
        "class Car: #пример объявления класса с минимально возможным функционалом\n",
        "  pass"
      ],
      "metadata": {
        "id": "RfjOtWLg1su6"
      },
      "execution_count": null,
      "outputs": []
    },
    {
      "cell_type": "markdown",
      "source": [
        "#1.4.1 Определение собственных объектов"
      ],
      "metadata": {
        "id": "NjUg9EhV2Boa"
      }
    },
    {
      "cell_type": "code",
      "source": [
        "# <имя_объекта> = <имя_класса>()\n",
        "car_object = Car() #объект класса Car"
      ],
      "metadata": {
        "id": "h_jk5GyO2EnR"
      },
      "execution_count": null,
      "outputs": []
    },
    {
      "cell_type": "markdown",
      "source": [
        "#1.4.2.2 Пользовательские атрибуты"
      ],
      "metadata": {
        "id": "IWU1NEh33fGe"
      }
    },
    {
      "cell_type": "code",
      "source": [
        "class Car:\n",
        "    color = 'Grey'\n",
        "    def drive(self):\n",
        "        pass\n",
        "    def price(self):\n",
        "      pass\n",
        "\n",
        "#пользовательскими атрибутами являются drive, price"
      ],
      "metadata": {
        "id": "FblJN6pD3hB6"
      },
      "execution_count": null,
      "outputs": []
    },
    {
      "cell_type": "code",
      "source": [
        "car_object = Car()\n",
        "dir(car_object) #список атрибутов класса / объекта можно получить с помощью команды dir()\n",
        "['__class__',\n",
        " '__delattr__',\n",
        " '__dict__',\n",
        " '__dir__',\n",
        " '__doc__',\n",
        " '__init__',\n",
        " '__init_subclass__',\n",
        " 'color',\n",
        " 'drive',\n",
        " 'price'] "
      ],
      "metadata": {
        "colab": {
          "base_uri": "https://localhost:8080/"
        },
        "id": "vKXl7FIF33Zp",
        "outputId": "63f9fd86-55b4-4069-d9d4-f0a3e4c26760"
      },
      "execution_count": null,
      "outputs": [
        {
          "output_type": "execute_result",
          "data": {
            "text/plain": [
              "['__class__',\n",
              " '__delattr__',\n",
              " '__dict__',\n",
              " '__dir__',\n",
              " '__doc__',\n",
              " '__init__',\n",
              " '__init_subclass__',\n",
              " 'color',\n",
              " 'drive',\n",
              " 'price']"
            ]
          },
          "metadata": {},
          "execution_count": 44
        }
      ]
    },
    {
      "cell_type": "markdown",
      "source": [
        "#1.4.3.1 Статические поля (переменные или свойства класса)"
      ],
      "metadata": {
        "id": "ZT1dVHkq4pSb"
      }
    },
    {
      "cell_type": "code",
      "source": [
        "class Car:\n",
        "  default_color = 'Grey' \n",
        "  default_model = 'BMW'\n",
        "  def drive(self):\n",
        "    pass\n",
        "  def price(self):\n",
        "    pass"
      ],
      "metadata": {
        "id": "KjuqBtcj4qol"
      },
      "execution_count": null,
      "outputs": []
    },
    {
      "cell_type": "code",
      "source": [
        "x = Car()\n",
        "x.default_color"
      ],
      "metadata": {
        "colab": {
          "base_uri": "https://localhost:8080/",
          "height": 37
        },
        "id": "7n4svb0S5Xsv",
        "outputId": "6a4ef7bf-02d4-448b-d5f8-bb989b263c16"
      },
      "execution_count": null,
      "outputs": [
        {
          "output_type": "execute_result",
          "data": {
            "text/plain": [
              "'Grey'"
            ],
            "application/vnd.google.colaboratory.intrinsic+json": {
              "type": "string"
            }
          },
          "metadata": {},
          "execution_count": 46
        }
      ]
    },
    {
      "cell_type": "code",
      "source": [
        "x.default_model"
      ],
      "metadata": {
        "colab": {
          "base_uri": "https://localhost:8080/",
          "height": 37
        },
        "id": "o97iaCdE5e35",
        "outputId": "ab1e4e4c-f176-4787-e0fa-81edbefce2ce"
      },
      "execution_count": null,
      "outputs": [
        {
          "output_type": "execute_result",
          "data": {
            "text/plain": [
              "'BMW'"
            ],
            "application/vnd.google.colaboratory.intrinsic+json": {
              "type": "string"
            }
          },
          "metadata": {},
          "execution_count": 47
        }
      ]
    },
    {
      "cell_type": "markdown",
      "source": [
        "#1.4.3.2 Динамические поля (переменные или свойства экземпляра класса)"
      ],
      "metadata": {
        "id": "ers6GPWC5xa3"
      }
    },
    {
      "cell_type": "code",
      "source": [
        "class Car:\n",
        "# Статические поля (переменные класса)\n",
        "  default_color = 'Grey' \n",
        "  default_model = 'BMW'\n",
        "  def __init__(self, color, model):\n",
        "# Динамические поля (переменные объекта) self.color = color\n",
        "    self.color = color\n",
        "    self.model = model"
      ],
      "metadata": {
        "id": "bfT2hNRy5yym"
      },
      "execution_count": null,
      "outputs": []
    },
    {
      "cell_type": "code",
      "source": [
        "x = Car('Blue', 'Mercedes')\n",
        "x.color"
      ],
      "metadata": {
        "colab": {
          "base_uri": "https://localhost:8080/",
          "height": 37
        },
        "id": "FGmkeVUq6axO",
        "outputId": "e11051df-67ac-48f8-874c-a37a3580d420"
      },
      "execution_count": null,
      "outputs": [
        {
          "output_type": "execute_result",
          "data": {
            "text/plain": [
              "'Blue'"
            ],
            "application/vnd.google.colaboratory.intrinsic+json": {
              "type": "string"
            }
          },
          "metadata": {},
          "execution_count": 51
        }
      ]
    },
    {
      "cell_type": "code",
      "source": [
        "x.model"
      ],
      "metadata": {
        "colab": {
          "base_uri": "https://localhost:8080/",
          "height": 37
        },
        "id": "yztU6_EF6vOY",
        "outputId": "2e5aecfb-7dd1-4200-91a8-394583f8c096"
      },
      "execution_count": null,
      "outputs": [
        {
          "output_type": "execute_result",
          "data": {
            "text/plain": [
              "'Mercedes'"
            ],
            "application/vnd.google.colaboratory.intrinsic+json": {
              "type": "string"
            }
          },
          "metadata": {},
          "execution_count": 52
        }
      ]
    },
    {
      "cell_type": "markdown",
      "source": [
        "# 1.4.4.1 Методы экземпляра класса"
      ],
      "metadata": {
        "id": "98x0oebX7CSq"
      }
    },
    {
      "cell_type": "code",
      "source": [
        "class Car:\n",
        "  def __init__(self, color, model): \n",
        "    self.color = color\n",
        "    self.model = model\n",
        "# Методы экземпляра класса\n",
        "# Первый параметр метода - self \n",
        "  def check_sim(self, country):\n",
        "    if self.model == 'BMW' and country == 'Germany':\n",
        "      print('Your car is good')"
      ],
      "metadata": {
        "id": "OUk-_JB57DgR"
      },
      "execution_count": null,
      "outputs": []
    },
    {
      "cell_type": "code",
      "source": [
        "x = Car('Blue', 'BMW')\n",
        "x.check_sim('Germany')"
      ],
      "metadata": {
        "colab": {
          "base_uri": "https://localhost:8080/"
        },
        "id": "fbUrB1ZC7YGd",
        "outputId": "a7f468a0-0b3f-4250-dc9c-a742563930bc"
      },
      "execution_count": null,
      "outputs": [
        {
          "output_type": "stream",
          "name": "stdout",
          "text": [
            "Your car is good\n"
          ]
        }
      ]
    },
    {
      "cell_type": "markdown",
      "source": [
        " # 1.4.4.2 Статические методы"
      ],
      "metadata": {
        "id": "cbwFytet9_Z0"
      }
    },
    {
      "cell_type": "code",
      "source": [
        "import hashlib \n",
        "class Car:\n",
        "# Статический метод справочного характера \n",
        "# Возвращает хэш по номеру модели\n",
        "# self внутри метода отсутствует \n",
        "  @staticmethod\n",
        "  def model_hash(model):\n",
        "    if model == 'BMW':\n",
        "      return 'the machine series is not defined in' \n",
        "    elif model == 'BMW X6':\n",
        "      return hash(model) \n",
        "    else:\n",
        "      return 'The manufacturer is not defined' \n",
        "# Обычный метод\n",
        "  def check_model(self, model):\n",
        "    pass"
      ],
      "metadata": {
        "id": "vTOkrQsv-Gk2"
      },
      "execution_count": null,
      "outputs": []
    },
    {
      "cell_type": "code",
      "source": [
        "x = Car()\n",
        "x.check_model('X6')"
      ],
      "metadata": {
        "id": "cVvucxsHAPae"
      },
      "execution_count": null,
      "outputs": []
    },
    {
      "cell_type": "code",
      "source": [
        "x.model_hash('BMW X6')"
      ],
      "metadata": {
        "colab": {
          "base_uri": "https://localhost:8080/"
        },
        "id": "FFBImStHAdqL",
        "outputId": "ee15e234-dc53-4c0b-fd2f-96ccbc752d8f"
      },
      "execution_count": null,
      "outputs": [
        {
          "output_type": "execute_result",
          "data": {
            "text/plain": [
              "1428795097444104846"
            ]
          },
          "metadata": {},
          "execution_count": 74
        }
      ]
    },
    {
      "cell_type": "code",
      "source": [
        "x.model_hash('BMW')"
      ],
      "metadata": {
        "colab": {
          "base_uri": "https://localhost:8080/",
          "height": 37
        },
        "id": "t38K3dLZAsH9",
        "outputId": "d742b884-a93f-4dc4-b299-e3beb3390dfb"
      },
      "execution_count": null,
      "outputs": [
        {
          "output_type": "execute_result",
          "data": {
            "text/plain": [
              "'the machine series is not defined in'"
            ],
            "application/vnd.google.colaboratory.intrinsic+json": {
              "type": "string"
            }
          },
          "metadata": {},
          "execution_count": 78
        }
      ]
    },
    {
      "cell_type": "markdown",
      "source": [
        "#1.4.4.3 Методы класса"
      ],
      "metadata": {
        "id": "TdbZAa7YA5Mb"
      }
    },
    {
      "cell_type": "code",
      "source": [
        "class Car:\n",
        "    def __init__(self, color, model):\n",
        "        self.color = color\n",
        "        self.model = model\n",
        "        self.price = price\n",
        "    # Метод класса\n",
        "    # Принимает 1) ссылку на класс Car и 2) цвет в качестве параметров\n",
        "    # Создает специфический объект класса Car(особенность объекта в том,\n",
        "    # что это модель от завода изготовителя)\n",
        "    # При этом вызывается инициализатор класса Car\n",
        "    # которому в качестве аргументов передается цвет и модель,\n",
        "    # соответствующую оригинальной машины\n",
        "    @classmethod\n",
        "    def origin_car(cls, color):\n",
        "        origin_car = cls(color, 'Origin Car from Germany', None)\n",
        "        return origin_car\n",
        "\n",
        "\n",
        "    # Статический метод\n",
        "    @staticmethod\n",
        "    def model_hash(model):\n",
        "        if model == 'BMW':\n",
        "            return 'the machine series is not defined in'\n",
        "        elif model == 'BMW X6':\n",
        "            return hash(model)\n",
        "        else:\n",
        "            return 'The manufacturer is not defined'\n",
        "\n",
        "\n",
        "    # Обычный метод\n",
        "        def check_model(self, model):\n",
        "            pass "
      ],
      "metadata": {
        "id": "7b1TyEgHA9GJ"
      },
      "execution_count": null,
      "outputs": []
    },
    {
      "cell_type": "markdown",
      "source": [
        "#1.4.5 Метод init()"
      ],
      "metadata": {
        "id": "Z8pfniMeBkFN"
      }
    },
    {
      "cell_type": "code",
      "source": [
        "class student:\n",
        "    def __init__(self, kurs, idl):\n",
        "        self.kurs = kurs\n",
        "        self.id =idl\n",
        "\n",
        "idl = input(' Введите идентификатор студента: ')\n",
        "kurs = input(' Введите курс студента : ')\n",
        "\n",
        "studentl = student ( kurs, idl ) # создание экземпляра\n",
        "print ('Курс :', studentl.kurs, studentl.id, sep = ' ')\n",
        "student2 = studentl\n",
        "idl = input(' В ведите идентификатор 2-го студента: ')\n",
        "student2.id =idl\n",
        "print('Курс: 1', studentl.kurs, studentl.id, sep = ' ')\n",
        "kurs=input( 'Введите новый курс студентов: ')\n",
        "studentl.kurs = kurs\n",
        "\n",
        "print('Новый курс : ', studentl.kurs , 'Идентификатор:',\n",
        "studentl.id, sep = ' ')\n",
        "print('Новый курс : ', student2.kurs, 'Идентификато2р:',\n",
        "student2.id, sep = ' ') "
      ],
      "metadata": {
        "colab": {
          "base_uri": "https://localhost:8080/"
        },
        "id": "T-blsUk0BleA",
        "outputId": "f1a7dd25-150d-46c9-9074-b78dbc6eb3d8"
      },
      "execution_count": null,
      "outputs": [
        {
          "output_type": "stream",
          "name": "stdout",
          "text": [
            " Введите идентификатор студента: 1\n",
            " Введите курс студента : 1\n",
            "Курс : 1 1\n",
            " В ведите идентификатор 2-го студента: 2\n",
            "Курс: 1 1 2\n",
            "Введите новый курс студентов: 2\n",
            "Новый курс :  2 Идентификатор: 2\n",
            "Новый курс :  2 Идентификато2р: 2\n"
          ]
        }
      ]
    },
    {
      "cell_type": "markdown",
      "source": [
        "#Пример Модель роста Солоу"
      ],
      "metadata": {
        "id": "M92bchN9MGhe"
      }
    },
    {
      "cell_type": "code",
      "source": [
        "class Solow:\n",
        "    #Реализует модель роста Солоу с правилом обновления\n",
        "\n",
        "    # k_{t+1} = [(s z k^α_t) + (1 - δ)k_t] /(1 + n)\n",
        "\n",
        "    def __init__(self, \n",
        "                 n=0.05, # темпы прироста населения\n",
        "                 s=0.25, # норма сбережений\n",
        "                 δ=0.1, # норма амортизации\n",
        "                 α=0.3, # доля рабочей силы\n",
        "                 z=2.0, # производительность\n",
        "                 k=1.0): # текущий основной капитал\n",
        "        self.n, self.s, self.δ, self.α, self.z = n, s, δ, α, z\n",
        "        self.k = k\n",
        "    def h(self):\n",
        "        print(\" Оценка функции h\")\n",
        "        # Распаковка параметров\n",
        "        #(избавляемся от self для упрощения обозначения)\n",
        "        n, s, δ, α, z = self.n, self.s, self.δ, self.α, self.z\n",
        "        # обновляем на выходе h\n",
        "        return (s * z * self.k**α + (1 - δ) * self.k) / (1 + n)\n",
        "    def update(self):\n",
        "        print(\"Обновляем состояние (основной капитал)\")\n",
        "        self.k = self.h()\n",
        "    def steady_state(self):\n",
        "        print(\" Вычисляем устойчивую стоимость капитала.\")\n",
        "        #(избавляемся от self для упрощения обозначения)\n",
        "        n, s, δ, α, z = self.n, self.s, self.δ, self.α, self.z\n",
        "        # Вычисление и возврат устойчивого состояния\n",
        "        return ((s * z) / (n + δ))**(1 / (1 - α))\n",
        "    def generate_sequence(self, t):\n",
        "        print(\"Генерация и возврат временного ряда\")\n",
        "        path = []\n",
        "        for i in range(t):\n",
        "            path.append(self.k)\n",
        "            self.update()\n",
        "        return path"
      ],
      "metadata": {
        "id": "yQPBsdTwMIDa"
      },
      "execution_count": null,
      "outputs": []
    }
  ]
}