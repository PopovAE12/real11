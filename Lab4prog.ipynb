{
  "nbformat": 4,
  "nbformat_minor": 0,
  "metadata": {
    "colab": {
      "provenance": [],
      "authorship_tag": "ABX9TyOpgT5e7H9Ld6s4uOfOWdwm",
      "include_colab_link": true
    },
    "kernelspec": {
      "name": "python3",
      "display_name": "Python 3"
    },
    "language_info": {
      "name": "python"
    }
  },
  "cells": [
    {
      "cell_type": "markdown",
      "metadata": {
        "id": "view-in-github",
        "colab_type": "text"
      },
      "source": [
        "<a href=\"https://colab.research.google.com/github/PopovAE12/real11/blob/main/Lab4prog.ipynb\" target=\"_parent\"><img src=\"https://colab.research.google.com/assets/colab-badge.svg\" alt=\"Open In Colab\"/></a>"
      ]
    },
    {
      "cell_type": "markdown",
      "source": [
        "Программирование на языке высокого уровня (Python). https://www.yuripetrov.ru/edu/python \n",
        "\n",
        "Попов Александр Евгеньевич \n",
        "\n",
        "Группа: АДЭУ-221 \n",
        "\n",
        "E-mail: Alex04priest@gmail.com"
      ],
      "metadata": {
        "id": "SavcNCCAuh9T"
      }
    },
    {
      "cell_type": "markdown",
      "source": [
        "#4.2.1\n",
        "№4.2.1\n",
        "\n",
        "Рассчитать значение f при заданном значении вещественного числа x:\n",
        "\n",
        "![image.png](data:image/png;base64,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)"
      ],
      "metadata": {
        "id": "7Bi6toRxu8ut"
      }
    },
    {
      "cell_type": "code",
      "execution_count": 1,
      "metadata": {
        "colab": {
          "base_uri": "https://localhost:8080/"
        },
        "id": "eorAl0z4uYeO",
        "outputId": "156f3ae0-6225-48ab-f467-1d5c5c104772"
      },
      "outputs": [
        {
          "output_type": "stream",
          "name": "stdout",
          "text": [
            "-10\n",
            "Получившийся результат:  -0.1\n"
          ]
        }
      ],
      "source": [
        "x = int(input())\n",
        "\n",
        "if x >= 0:\n",
        "    f = (x**(1/2))+(x**2)\n",
        "else:\n",
        "    f = 1/x\n",
        "\n",
        "print('Получившийся результат: ', round(f, 2))\n",
        "\n",
        "# --------------\n",
        "# Пример вывода:\n",
        "#\n",
        "# Введите число x: -10\n",
        "# f = -0.10\n",
        "\n",
        "# Введите число x: 0\n",
        "# f = 0.00\n",
        "\n",
        "# Введите число x: 10\n",
        "# f = 103.16"
      ]
    },
    {
      "cell_type": "markdown",
      "source": [
        "#4.2.2\n",
        "№4.2.2\n",
        "\n",
        "Определите максимальное и минимальное значения из двух различных целых чисел."
      ],
      "metadata": {
        "id": "AM_wJJ50vT2M"
      }
    },
    {
      "cell_type": "code",
      "source": [
        "a = int(input(\"Первое число: \"))\n",
        "b = int(input(\"Второе число: \"))\n",
        "if a != b:\n",
        "    if a > b:\n",
        "        print('макс',a,'мин',b)\n",
        "    else:\n",
        "        print('макс',b,'мин',a)\n",
        "else:\n",
        "      print('макс',a,'мин',b)\n",
        "# --------------\n",
        "# Пример вывода:\n",
        "#\n",
        "# первое число: 1\n",
        "# второе число: 2\n",
        "# Макс: 2, мин: 1\n",
        "\n",
        "# первое число: 5\n",
        "# второе число: 5\n",
        "# Макс: 5, мин: 5\n",
        "\n",
        "# первое число: 100\n",
        "# второе число: -1\n",
        "# Макс: 100, мин: -1"
      ],
      "metadata": {
        "colab": {
          "base_uri": "https://localhost:8080/"
        },
        "id": "TrxjNcHcIMi0",
        "outputId": "bdafdbab-5588-449f-cddd-a7e863ebd15c"
      },
      "execution_count": 37,
      "outputs": [
        {
          "output_type": "stream",
          "name": "stdout",
          "text": [
            "Первое число: 1\n",
            "Второе число: 2\n",
            "макс 2 мин 1\n"
          ]
        }
      ]
    },
    {
      "cell_type": "markdown",
      "source": [
        "#4.2.3\n",
        "№4.2.3\n",
        "\n",
        "Вася пытается высунуть голову в форточку размерами a и b см. Приняв условно, что его голова - круглая диаметром d см, определите, сможет ли Вася сделать это. Для прохождения головы в форточку необходим зазор в 1 см. с каждой стороны."
      ],
      "metadata": {
        "id": "iJJEeawhwQqz"
      }
    },
    {
      "cell_type": "code",
      "source": [
        "a= int(input('Введите значение ширины : '))\n",
        "b = int(input('Введите значение высоты : '))\n",
        "c = int(input('Введите значение диаметра головы мальчика: '))\n",
        "\n",
        "if ((a or b or c) < 0):\n",
        "    print('Ошибка. Невозможно выполнить скрипт. Вы ввели отрицательное значение.')\n",
        "else:\n",
        "    if ((a-1>=c) and (b-1>=c)):\n",
        "        print('Да.')\n",
        "    else:\n",
        "        print('Нет.')\n",
        "\n",
        "# --------------\n",
        "# Пример вывода:\n",
        "#\n",
        "# Ширина форточки: 5\n",
        "# Высота форточки: 6\n",
        "# Диаметр головы: 6\n",
        "# Нет\n",
        "\n",
        "# Ширина форточки: 6\n",
        "# Высота форточки: 7\n",
        "# Диаметр головы: 4\n",
        "# Да"
      ],
      "metadata": {
        "colab": {
          "base_uri": "https://localhost:8080/"
        },
        "id": "CqM2sqA1womi",
        "outputId": "8e2773df-710c-4ce9-81cc-8719334b00c1"
      },
      "execution_count": 7,
      "outputs": [
        {
          "output_type": "stream",
          "name": "stdout",
          "text": [
            "Введите значение ширины : 5\n",
            "Введите значение высоты : 6\n",
            "Введите значение диаметра головы мальчика: 6\n",
            "Нет.\n"
          ]
        }
      ]
    },
    {
      "cell_type": "markdown",
      "source": [
        "#4.2.4\n",
        "№4.2.4\n",
        "\n",
        "Известны год и номер месяца сегодняшнего дня, а также год и номер месяца рождения человека (нумерация месяцев с 1: январь - 1 и т.д.). Определите возраст человека (число полных лет)."
      ],
      "metadata": {
        "id": "x9FMSjjxw2e6"
      }
    },
    {
      "cell_type": "code",
      "source": [
        "ytoday = int(input('Введите текущий год: '))\n",
        "mtoday = int(input('Введите текущий месяц: '))\n",
        "year = int(input('Введите год рождения: '))\n",
        "month= int(input('Введите месяц рождения: '))\n",
        "age = ytoday-year\n",
        "if (mtoday or month)<=0:\n",
        "    print('Невозможно выполнить скрипт.')\n",
        "else:\n",
        "    if month>mtoday:\n",
        "        print('Число полных лет:', age-1)\n",
        "    else:\n",
        "        print('Число полных лет:', age)\n",
        "# --------------\n",
        "# Пример вывода:\n",
        "#\n",
        "# Введите текущий год: 2017\n",
        "# Введите текущий месяц: 5\n",
        "# Введите год рождения: 2000\n",
        "# Введите месяц рождения: 1\n",
        "# Число полных лет:  17\n",
        "#\n",
        "# Введите текущий год: 2015\n",
        "# Введите текущий месяц: 6\n",
        "# Введите год рождения: 2010\n",
        "# Введите месяц рождения: 8\n",
        "# Число полных лет:  4\n",
        "#\n",
        "# Введите текущий год: 2020\n",
        "# Введите текущий месяц: 5\n",
        "# Введите год рождения: 2000\n",
        "# Введите месяц рождения: 5\n",
        "# Число полных лет:  20"
      ],
      "metadata": {
        "colab": {
          "base_uri": "https://localhost:8080/"
        },
        "id": "C9Me2p9Nw7T2",
        "outputId": "addc7eef-5c3c-46b6-e4b6-51d74794f693"
      },
      "execution_count": 39,
      "outputs": [
        {
          "output_type": "stream",
          "name": "stdout",
          "text": [
            "Введите текущий год: 2017\n",
            "Введите текущий месяц: 5\n",
            "Введите год рождения: 2000\n",
            "Введите месяц рождения: 1\n",
            "Число полных лет: 17\n"
          ]
        }
      ]
    },
    {
      "cell_type": "markdown",
      "source": [
        "#4.2.5\n",
        "№4.2.5\n",
        "\n",
        "Дана точка с целыми ненулевыми координатами (x;y). Определить номер четверти координатной плоскости, которой она принадлежит."
      ],
      "metadata": {
        "id": "76kSdlfJxYjA"
      }
    },
    {
      "cell_type": "code",
      "source": [
        "x = int(input())\n",
        "y = int(input())\n",
        "if (x>0 and y>0):\n",
        "    print('в 1-й четверти.')\n",
        "elif (x<0 and y>0):\n",
        "    print('во 2-й четверти.')\n",
        "elif (x<0 and y<0):\n",
        "    print('в 3-й четверти.')\n",
        "elif (x>0 and y<0):\n",
        "    print('в 4-й четверти.')\n",
        "elif (x==0 and y==0):\n",
        "    print('на пересечении осей x и y.')\n",
        "elif x==0:\n",
        "    print('на оси x.') \n",
        "elif y==0:\n",
        "    print('на оси y.') \n",
        "\n",
        "# --------------\n",
        "# Пример вывода:\n",
        "#\n",
        "# Введите координату x: 5\n",
        "# Введите координату y: 7\n",
        "# 1-я четверть"
      ],
      "metadata": {
        "colab": {
          "base_uri": "https://localhost:8080/"
        },
        "id": "z5u0Myv_xfcu",
        "outputId": "0441b632-bde2-4c02-bfab-a203849fb8a5"
      },
      "execution_count": 40,
      "outputs": [
        {
          "output_type": "stream",
          "name": "stdout",
          "text": [
            "5\n",
            "7\n",
            "в 1-й четверти.\n"
          ]
        }
      ]
    },
    {
      "cell_type": "markdown",
      "source": [
        "#4.2.6\n",
        "№4.2.6\n",
        "\n",
        "Даны вещественные числа a, b, c (a≠0).\n",
        "\n",
        "Решите уравнение ax^2+bx+c=0. При выводе значений оставьте 1 знак после запятой."
      ],
      "metadata": {
        "id": "YucGTv84x0dJ"
      }
    },
    {
      "cell_type": "code",
      "source": [
        "a = float(input('Введите a: '))\n",
        "b = float(input('Введите b: '))\n",
        "c = float(input('Введите c: '))\n",
        "d = ((b**2)-(4*a*c))\n",
        "if d<0:\n",
        "    print('Нет реш.')\n",
        "elif d==0:\n",
        "    x1 = ((-1*b)/2*a)\n",
        "    print('x = ', x1)\n",
        "elif d>0:\n",
        "    x2 = (((-1*b)+(d**(1/2)))/2*a)\n",
        "    x1 = (((-1*b)-(d**(1/2)))/2*a)\n",
        "    print('x1 =',x1,'x2 =',x2)\n",
        "\n",
        "# --------------\n",
        "# Пример вывода:\n",
        "#\n",
        "# a = 1\n",
        "# b = 2\n",
        "# c = 3\n",
        "# Решений нет\n",
        "#\n",
        "# a = 1\n",
        "# b = 2\n",
        "# c = 1\n",
        "# x = -1.0\n",
        "#\n",
        "# a = 1\n",
        "# b = 3\n",
        "# c = -4\n",
        "# x1 = -4.0, x2 = 1.0"
      ],
      "metadata": {
        "colab": {
          "base_uri": "https://localhost:8080/"
        },
        "id": "Fa53vDKRx88l",
        "outputId": "a1e8b2ab-2050-4317-f2e5-63cd8894c253"
      },
      "execution_count": 15,
      "outputs": [
        {
          "output_type": "stream",
          "name": "stdout",
          "text": [
            "Введите a: 1\n",
            "Введите b: 2\n",
            "Введите c: 1\n",
            "x =  -1.0\n"
          ]
        }
      ]
    },
    {
      "cell_type": "markdown",
      "source": [
        "#4.2.7\n",
        "№4.2.7\n",
        "\n",
        "Дана непустая последовательность целых чисел, оканчивающаяся нулем. Найти сумму и количество введенных чисел."
      ],
      "metadata": {
        "id": "jyLEgoO_yNbW"
      }
    },
    {
      "cell_type": "code",
      "source": [
        "nums_s = 0 \n",
        "nums_c = 0  \n",
        "x = int(input())\n",
        "a = []\n",
        "while x != 0:\n",
        "    nums_c = nums_c+1\n",
        "    a.append(x)\n",
        "    nums_s = nums_s+x\n",
        "    x = int(input())\n",
        "\n",
        "print('Сумм = ', nums_s)\n",
        "print('Кол-во = ',nums_c)\n",
        "# --------------\n",
        "# Пример вывода:\n",
        "#\n",
        "# Введите 1-е число: 1\n",
        "# Введите 2-е число: 2\n",
        "# Введите 3-е число: 3\n",
        "# Введите 4-е число: 4\n",
        "# Введите 5-е число: 0\n",
        "# Сумма = 10\n",
        "# Количество = 4\n",
        "#\n",
        "# Введите 1-е число: 0\n",
        "# Сумма = 0\n",
        "# Количество = 0"
      ],
      "metadata": {
        "colab": {
          "base_uri": "https://localhost:8080/"
        },
        "id": "pSBCBO3lyTB1",
        "outputId": "3f4d1265-16d3-4425-8ebb-f05a38388f19"
      },
      "execution_count": 41,
      "outputs": [
        {
          "output_type": "stream",
          "name": "stdout",
          "text": [
            "0\n",
            "Сумм =  0\n",
            "Кол-во =  0\n"
          ]
        }
      ]
    },
    {
      "cell_type": "markdown",
      "source": [
        "#4.2.8\n",
        "№4.2.8\n",
        "\n",
        "Дано число n. Из чисел 0,5,10,15,20,25,... напечатать те, которые не превышают n."
      ],
      "metadata": {
        "id": "jvrP74hwymC-"
      }
    },
    {
      "cell_type": "code",
      "source": [
        "n = int(input('Введите n: '))\n",
        "g = 0\n",
        "a = list()\n",
        "a.append(g)\n",
        "while g<=n:\n",
        "    g = g+5\n",
        "    a.append(g) #+ элемент в конец списка.\n",
        "a.pop() #Pop вычитает последний элемент.\n",
        "print(a)\n",
        "\n",
        "\n",
        "# --------------\n",
        "# Пример вывода:\n",
        "#\n",
        "# n = 0\n",
        "# 0\n",
        "#\n",
        "# n = 10\n",
        "# 0\n",
        "# 5\n",
        "# 10\n",
        "#\n",
        "# n = 12\n",
        "# 0\n",
        "# 5\n",
        "# 10"
      ],
      "metadata": {
        "colab": {
          "base_uri": "https://localhost:8080/"
        },
        "id": "dbUGwyDAyrga",
        "outputId": "f5172bce-bdd6-49b1-8113-890b069d3807"
      },
      "execution_count": 17,
      "outputs": [
        {
          "output_type": "stream",
          "name": "stdout",
          "text": [
            "Введите n: 12\n",
            "[0, 5, 10]\n"
          ]
        }
      ]
    },
    {
      "cell_type": "markdown",
      "source": [
        "#4.2.9\n",
        "№4.2.9\n",
        "\n",
        "Дано вещественное число a. Найдите наименьшее натуральное n, для которого верно:\n",
        "\n",
        "![image.png](data:image/png;base64,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)"
      ],
      "metadata": {
        "id": "q8A_qlIgz-Sl"
      }
    },
    {
      "cell_type": "code",
      "source": [
        "a = float(input('Введите число: '))\n",
        "\n",
        "n = 1 \n",
        "x_sum = list() \n",
        "x_sum.append(n) \n",
        "while sum(x_sum)<=a: \n",
        "    n = n+1\n",
        "    g = 1/n\n",
        "    x_sum.append(g) \n",
        "print(n)\n",
        "# --------------\n",
        "# Пример вывода:\n",
        "#\n",
        "# a = 1.5\n",
        "# n = 3\n",
        "#\n",
        "# a = 2\n",
        "# n = 4"
      ],
      "metadata": {
        "colab": {
          "base_uri": "https://localhost:8080/"
        },
        "id": "DACeJEJhzICp",
        "outputId": "dc2ed2f8-0122-4a57-c3dd-5072c8a20da2"
      },
      "execution_count": 38,
      "outputs": [
        {
          "output_type": "stream",
          "name": "stdout",
          "text": [
            "Введите число: 2\n",
            "4\n"
          ]
        }
      ]
    },
    {
      "cell_type": "markdown",
      "source": [
        "#4.2.10\n",
        "№4.2.10\n",
        "\n",
        "Дано натуральное число. Определите сумму и количество его цифр."
      ],
      "metadata": {
        "id": "41wHoWmq2XOY"
      }
    },
    {
      "cell_type": "code",
      "source": [
        "n = int(input(\"n=\"))\n",
        "\n",
        "num= 0\n",
        "summ = 0\n",
        "\n",
        "while(n): \n",
        "   num = num + 1\n",
        "   summ = summ + n % 10\n",
        "   n = n // 10\n",
        "print('Сумм=',summ)\n",
        "print('Кол-во=',num)\n",
        "# --------------\n",
        "# Пример вывода:\n",
        "#\n",
        "# n = 12345\n",
        "# Сумма = 15\n",
        "# Количество = 5"
      ],
      "metadata": {
        "colab": {
          "base_uri": "https://localhost:8080/"
        },
        "id": "dm0FqoAW2ycb",
        "outputId": "0d598bce-518c-4145-bb16-cd5fd5288cec"
      },
      "execution_count": 19,
      "outputs": [
        {
          "output_type": "stream",
          "name": "stdout",
          "text": [
            "n=12345\n",
            "Сумм= 15\n",
            "Кол-во= 5\n"
          ]
        }
      ]
    },
    {
      "cell_type": "markdown",
      "source": [
        "#4.2.11\n",
        "№4.2.11\n",
        "Вывести в строку 10 первых натуральных чисел, оканчивающихся на цифру k, кратных числу s и находящихся в интервале, левая граница которого равна start."
      ],
      "metadata": {
        "id": "10wlxLnp2_ug"
      }
    },
    {
      "cell_type": "code",
      "source": [
        "start = int(input('Введите значение границы: ')) \n",
        "k = int(input('Введите цифру окончания: ')) \n",
        "s = int(input('Введите цифру кратн.: '))\n",
        "need = list()\n",
        "while start%s!=0: \n",
        "    start += 1\n",
        "else:\n",
        "    for x in range(99):\n",
        "        start += 1\n",
        "        while start%s!=0:\n",
        "            start += 1\n",
        "        else:\n",
        "            if start%10==k:\n",
        "                need.append(start)\n",
        "print(need[0:10])\n",
        "\n",
        "# --------------\n",
        "# Пример вывода:\n",
        "#\n",
        "# start = 100\n",
        "# k = 7\n",
        "# s = 9\n",
        "# 117 207 297 387 477 567 657 747 837 927"
      ],
      "metadata": {
        "colab": {
          "base_uri": "https://localhost:8080/"
        },
        "id": "qeNYwDa43Zz1",
        "outputId": "0fada896-d1aa-49ef-ef70-fec4f3c0e3f3"
      },
      "execution_count": 20,
      "outputs": [
        {
          "output_type": "stream",
          "name": "stdout",
          "text": [
            "Введите значение границы: 100\n",
            "Введите цифру окончания: 7\n",
            "Введите цифру кратн.: 9\n",
            "[117, 207, 297, 387, 477, 567, 657, 747, 837, 927]\n"
          ]
        }
      ]
    },
    {
      "cell_type": "markdown",
      "source": [
        "#4.2.12\n",
        "№4.2.12\n",
        "\n",
        "Вывести в строку 10 первых натуральных чисел, оканчивающихся на цифру k, кратных числу s и находящихся в интервале, левая граница которого равна start."
      ],
      "metadata": {
        "id": "Pmu3NYAD3zCL"
      }
    },
    {
      "cell_type": "code",
      "source": [
        "a = int(input('первое число: '))\n",
        "b = int(input('второе число: '))\n",
        "ls = list(range(a,b+1,1))\n",
        "print(ls)\n",
        "ls.reverse()\n",
        "print(\"\\n\".join(map(str, ls)))\n",
        "# --------------\n",
        "# Пример вывода:\n",
        "#\n",
        "# a = 1\n",
        "# b = 5\n",
        "# 1 2 3 4 5\n",
        "# 5\n",
        "# 4\n",
        "# 3\n",
        "# 2\n",
        "# 1"
      ],
      "metadata": {
        "colab": {
          "base_uri": "https://localhost:8080/"
        },
        "id": "s7MV9IN04_H5",
        "outputId": "104161e7-3ef6-4e22-e1a2-9fa540172fb0"
      },
      "execution_count": 21,
      "outputs": [
        {
          "output_type": "stream",
          "name": "stdout",
          "text": [
            "первое число: 1\n",
            "второе число: 5\n",
            "[1, 2, 3, 4, 5]\n",
            "5\n",
            "4\n",
            "3\n",
            "2\n",
            "1\n"
          ]
        }
      ]
    },
    {
      "cell_type": "markdown",
      "source": [
        "#4.2.13\n",
        "№4.2.13\n",
        "\n",
        "Для введенных с клавиатуры положительных целых чисел a и b (a≤b) определите:\n",
        "\n",
        "• сумму всех целых чисел от a до b;\n",
        "\n",
        "• произведение всех целых чисел от a до b;\n",
        "\n",
        "• среднее арифметическое всех целых чисел от a до b;\n",
        "\n",
        "• среднее геометрическое нечетных чисел от a до b.\n",
        "\n",
        "Отрезок поиска включает сами числа a и b. При выводе вещественных результатов оставьте два знака после запятой."
      ],
      "metadata": {
        "id": "g-phy67u4A6p"
      }
    },
    {
      "cell_type": "code",
      "source": [
        "a = int(input('Введите первое число: '))\n",
        "b = int(input('Введите второе число: '))\n",
        "lss = list(range(a,b+1,1))\n",
        "sums = sum(lss)\n",
        "mult = 1\n",
        "a = 0\n",
        "\n",
        "\n",
        "# --------------\n",
        "# Пример вывода:\n",
        "#\n",
        "# a = 1\n",
        "# b = 5\n",
        "# Сумма = 15\n",
        "# Произведение = 120\n",
        "# Среднее арифметическое = 3.00\n",
        "# Среднее геометрическое нечетных чисел = 2.47"
      ],
      "metadata": {
        "id": "Y3kIlyxi6Brn"
      },
      "execution_count": null,
      "outputs": []
    },
    {
      "cell_type": "markdown",
      "source": [
        "#4.2.14\n",
        "№4.2.14\n",
        "\n",
        "Начав тренировки, лыжник в первый день пробежал s км. (s>0, вещественное число). Каждый следующий день он увеличивал пробег на p % (0<p≤100, вещественное число) от пробега предыдущего дня. Определите:\n",
        "пробег лыжника за второй, третий, …, десятый день тренировок;\n",
        "какой суммарный путь он пробежал за первые 10 дней тренировок.\n",
        "При выводе вещественных результатов оставьте один знак после запятой."
      ],
      "metadata": {
        "id": "ayh9xa_Y6gXx"
      }
    },
    {
      "cell_type": "code",
      "source": [
        "s = float(input('Введите кол-во км: '))\n",
        "p = float(input('Введите процент увел.: '))\n",
        "tot = list() \n",
        "tot.append(s) \n",
        "g = 0 \n",
        "f = 1\n",
        "for x in range(9): \n",
        "    s = ((s*(p/100))+s)+0.0001\n",
        "    f += 1\n",
        "    tot.append(s)\n",
        "    print('Пробег за',f,'день: ', round(s,1), 'км.')\n",
        "total = sum(tot)\n",
        "print(\"Суммарный пробег: \", round(total,1))\n",
        "\n",
        "# --------------\n",
        "# Пример вывода:\n",
        "#\n",
        "# Пробег за 1-й день (км.) = 5\n",
        "# На сколько увеличивает пробег (%) = 10\n",
        "# Пробег за 2-й день: 5.5 км.\n",
        "# Пробег за 3-й день: 6.1 км.\n",
        "# Пробег за 4-й день: 6.7 км.\n",
        "# Пробег за 5-й день: 7.3 км.\n",
        "# Пробег за 6-й день: 8.1 км.\n",
        "# Пробег за 7-й день: 8.9 км.\n",
        "# Пробег за 8-й день: 9.7 км.\n",
        "# Пробег за 9-й день: 10.7 км.\n",
        "# Пробег за 10-й день: 11.8 км.\n",
        "# Суммарный пробег: 79.7 км."
      ],
      "metadata": {
        "colab": {
          "base_uri": "https://localhost:8080/"
        },
        "id": "s3vnhSWt6uMV",
        "outputId": "4ce5cda7-181d-4c96-c2b0-02909da2d5b8"
      },
      "execution_count": 22,
      "outputs": [
        {
          "output_type": "stream",
          "name": "stdout",
          "text": [
            "Введите кол-во км: 5\n",
            "Введите процент увел.: 10\n",
            "Пробег за 2 день:  5.5 км.\n",
            "Пробег за 3 день:  6.1 км.\n",
            "Пробег за 4 день:  6.7 км.\n",
            "Пробег за 5 день:  7.3 км.\n",
            "Пробег за 6 день:  8.1 км.\n",
            "Пробег за 7 день:  8.9 км.\n",
            "Пробег за 8 день:  9.7 км.\n",
            "Пробег за 9 день:  10.7 км.\n",
            "Пробег за 10 день:  11.8 км.\n",
            "Суммарный пробег:  79.7\n"
          ]
        }
      ]
    },
    {
      "cell_type": "markdown",
      "source": [
        "#4.2.15\n",
        "№4.2.15\n",
        "\n",
        "Известна масса каждого предмета в кг., загружаемого в грузовик. Определить, возможна ли перевозка груза, если грузоподъемность грузовика равна p кг."
      ],
      "metadata": {
        "id": "rQRfg9nh7XMF"
      }
    },
    {
      "cell_type": "code",
      "source": [
        "p = int(input('Введите грузоподъемность (кг.): '))\n",
        "n = int(input('Введите количество (шт.): '))\n",
        "\n",
        "gr = list()\n",
        "for x in range(n):\n",
        "    f = int(input('Введите массу (кг.): '))\n",
        "    gr.append(f)\n",
        "\n",
        "if sum(gr)>=p:\n",
        "    print('Нет.')\n",
        "else:\n",
        "    print('Да.')\n",
        "\n",
        "# --------------\n",
        "# Пример вывода:\n",
        "#\n",
        "# Грузоподъемность грузовика (кг.) = 10\n",
        "# Количество предметов = 2\n",
        "# Масса 1-го предмета (кг.) = 3\n",
        "# Масса 2-го предмета (кг.) = 3\n",
        "# Да"
      ],
      "metadata": {
        "colab": {
          "base_uri": "https://localhost:8080/"
        },
        "id": "9utxbJfH7hAw",
        "outputId": "d936b25c-a3a1-44a6-c73c-d780972abd35"
      },
      "execution_count": 33,
      "outputs": [
        {
          "output_type": "stream",
          "name": "stdout",
          "text": [
            "Введите грузоподъемность (кг.): 10\n",
            "Введите количество (шт.): 2\n",
            "Введите массу (кг.): 3\n",
            "Введите массу (кг.): 3\n",
            "Да.\n"
          ]
        }
      ]
    },
    {
      "cell_type": "markdown",
      "source": [
        "#4.2.16\n",
        "№4.2.16\n",
        "\n",
        "В области несколько районов. Заданы площади, засеваемые пшеницей (га.), и средняя урожайность (ц/га) в каждом районе.\n",
        "\n",
        "Определите количество пшеницы, собранное по области. При выводе вещественных результатов оставьте один знак после запятой."
      ],
      "metadata": {
        "id": "YC2BYFzv8GNy"
      }
    },
    {
      "cell_type": "code",
      "source": [
        "n = int(input('Введите количество районов: '))\n",
        "total = list()\n",
        "for x in range(n):\n",
        "    s = float(input('Введите площадь района: '))\n",
        "    p = float(input('Введите урожайность в районе: ')) \n",
        "    g = p*s\n",
        "    total.append(g)\n",
        "\n",
        "print(round(sum(total), 1))\n",
        "\n",
        "# --------------\n",
        "# Пример вывода:\n",
        "#\n",
        "# Количество районов = 3\n",
        "# Площадь 1-го района (га) = 4\n",
        "# Урожайность в 1-м районе (ц/га.) = 2\n",
        "# Площадь 2-го района (га) = 7\n",
        "# Урожайность в 2-м районе (ц/га.) = 3\n",
        "# Площадь 3-го района (га) = 9\n",
        "# Урожайность в 3-м районе (ц/га.) = 4\n",
        "# Собрано пшеницы: 65.0 ц."
      ],
      "metadata": {
        "colab": {
          "base_uri": "https://localhost:8080/"
        },
        "id": "_QZMf4b68PAf",
        "outputId": "e0be7bd2-dd70-4665-92d9-6ecb5fa48f5c"
      },
      "execution_count": 26,
      "outputs": [
        {
          "output_type": "stream",
          "name": "stdout",
          "text": [
            "Введите количество районов: 3\n",
            "Введите площадь района: 4\n",
            "Введите урожайность в районе: 2\n",
            "Введите площадь района: 7\n",
            "Введите урожайность в районе: 3\n",
            "Введите площадь района: 9\n",
            "Введите урожайность в районе: 4\n",
            "65.0\n"
          ]
        }
      ]
    },
    {
      "cell_type": "markdown",
      "source": [
        "#4.2.17\n",
        "№4.2.17\n",
        "\n",
        "Предложение, введенное с клавиатуры, содержит слова из гласных и согласных букв кириллицы (регистр может быть различный), а также пробелы.\n",
        "\n",
        "Определите количество гласных и согласных букв в предложении. Для пропуска пробелов используйте оператор continue."
      ],
      "metadata": {
        "id": "F9_OmgL59IDH"
      }
    },
    {
      "cell_type": "code",
      "source": [
        "num_sum = 0  \n",
        "num_count = 0 \n",
        "x = int(input('Введите число. '))\n",
        "a = list()\n",
        "while x!=0:\n",
        "    num_count = num_count+1\n",
        "    a.append(x)\n",
        "    num_sum = num_sum+x\n",
        "    x = int(input('Введите новое число. '))\n",
        "    if x==0:\n",
        "        break\n",
        "print('Сумм = ', num_sum)\n",
        "print('Кол-во = ',num_count)\n",
        "\n",
        "# --------------\n",
        "# Пример вывода:\n",
        "#\n",
        "# Введите 1-е число: 1\n",
        "# Введите 2-е число: 2\n",
        "# Введите 3-е число: 3\n",
        "# Введите 4-е число: 4\n",
        "# Введите 5-е число: 0\n",
        "# Сумма = 10\n",
        "# Количество = 4\n",
        "#\n",
        "# Введите 1-е число: 0\n",
        "# Сумма = 0\n",
        "# Количество = 0"
      ],
      "metadata": {
        "colab": {
          "base_uri": "https://localhost:8080/"
        },
        "id": "xl4TqTDw9ODp",
        "outputId": "1670c642-ab88-48b6-a69f-5d6173ceca4a"
      },
      "execution_count": 31,
      "outputs": [
        {
          "output_type": "stream",
          "name": "stdout",
          "text": [
            "Введите число. 1\n",
            "Введите новое число. 2\n",
            "Введите новое число. 3\n",
            "Введите новое число. 4\n",
            "Введите новое число. 0\n",
            "Сумм =  10\n",
            "Кол-во =  4\n"
          ]
        }
      ]
    },
    {
      "cell_type": "markdown",
      "source": [],
      "metadata": {
        "id": "nE8AiskB_NVD"
      }
    },
    {
      "cell_type": "markdown",
      "source": [
        "#4.2.18\n",
        "№4.2.18\n",
        "\n",
        "Предложение, введенное с клавиатуры, содержит слова из гласных и согласных букв кириллицы (регистр может быть различный), а также пробелы.\n",
        "\n",
        "Определите количество гласных и согласных букв в предложении. Для пропуска пробелов используйте оператор continue."
      ],
      "metadata": {
        "id": "vspRRCvN_QPY"
      }
    },
    {
      "cell_type": "code",
      "source": [
        "#—————————————————————"
      ],
      "metadata": {
        "id": "RzZPV202_Z-O"
      },
      "execution_count": null,
      "outputs": []
    },
    {
      "cell_type": "markdown",
      "source": [
        "#4.2.19\n",
        "№4.2.19\n",
        "\n",
        "Выведите на экран (в строку) все целые числа от a до b, кратные некоторому числу c."
      ],
      "metadata": {
        "id": "xjkPLcUu-ai8"
      }
    },
    {
      "cell_type": "code",
      "source": [
        "a=int(input(\"a=\"))\n",
        "b=int(input(\"b=\"))\n",
        "c=int(input(\"c=\"))\n",
        "for n in range(a,b+1):\n",
        "    if n%c==0:\n",
        "        print(n,end=\" \")\n",
        "# Удалите комментарий и допишите код\n",
        "\n",
        "# --------------\n",
        "# Пример вывода:\n",
        "#\n",
        "# a = 1\n",
        "# b = 10\n",
        "# c = 2\n",
        "# 2 4 6 8 10"
      ],
      "metadata": {
        "colab": {
          "base_uri": "https://localhost:8080/"
        },
        "id": "SUeV7BvW_GGd",
        "outputId": "bacde33b-a481-46e4-d1db-5c228144506a"
      },
      "execution_count": 29,
      "outputs": [
        {
          "output_type": "stream",
          "name": "stdout",
          "text": [
            "a=1\n",
            "b=10\n",
            "c=2\n",
            "2 4 6 8 10 "
          ]
        }
      ]
    },
    {
      "cell_type": "markdown",
      "source": [],
      "metadata": {
        "id": "s31Nsb5qMNER"
      }
    },
    {
      "cell_type": "markdown",
      "source": [
        "#4.2.20\n",
        "№4.2.20\n",
        "\n",
        "Выведите на экран (в строку) все трехзначные натуральные числа, сумма цифр которых равна целому числу n (0<n≤27)."
      ],
      "metadata": {
        "id": "4bfdN5M0_sX3"
      }
    },
    {
      "cell_type": "code",
      "source": [
        "n = int(input())\n",
        "for i in range(100, 1000):\n",
        "    d = sum(int(s) for s in str(i)) \n",
        "    if d == n:\n",
        "        print(i,end=\" \")\n",
        "# Удалите комментарий и допишите код\n",
        "\n",
        "# --------------\n",
        "# Пример вывода:\n",
        "#\n",
        "# n = 3\n",
        "# 102 111 120 201 210 300"
      ],
      "metadata": {
        "colab": {
          "base_uri": "https://localhost:8080/"
        },
        "id": "NjHR9IwO__oJ",
        "outputId": "e3f166fa-0ea9-44a6-8913-83cdecee96d4"
      },
      "execution_count": 30,
      "outputs": [
        {
          "output_type": "stream",
          "name": "stdout",
          "text": [
            "3\n",
            "102 111 120 201 210 300 "
          ]
        }
      ]
    },
    {
      "cell_type": "markdown",
      "source": [
        "#4.2.21\n",
        "№4.2.21\n",
        "\n",
        "Известно количество учеников в классе и их рост (см.); рост мальчиков условно задан отрицательными числами. Определите средний рост мальчиков и средний рост девочек.\n",
        "\n",
        "При выводе вещественных результатов оставьте один знак после запятой."
      ],
      "metadata": {
        "id": "9UVykkLnDkVb"
      }
    },
    {
      "cell_type": "code",
      "source": [
        "n = int(input(\"n= \"))\n",
        "b=0\n",
        "r\n",
        "\n",
        "# --------------\n",
        "# Пример вывода:\n",
        "#\n",
        "# n = 5\n",
        "# Рост 1-го ученика = 150\n",
        "# Рост 2-го ученика = -150\n",
        "# Рост 3-го ученика = 160\n",
        "# Рост 4-го ученика = 170\n",
        "# Рост 5-го ученика = 180\n",
        "# Средний рост мальчиков: 150.0\n",
        "# Средний рост девочек: 165.0"
      ],
      "metadata": {
        "id": "hkwP7xPLDuyM"
      },
      "execution_count": null,
      "outputs": []
    },
    {
      "cell_type": "markdown",
      "source": [
        "#4.2.25\n",
        "№4.2.25\n",
        "\n",
        "Выведите на экран таблицу умножения на n (2<n≤9) в виде:\n",
        "\n",
        "![image.png](data:image/png;base64,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)"
      ],
      "metadata": {
        "id": "rCO0T3vvGCCl"
      }
    },
    {
      "cell_type": "code",
      "source": [
        "n = int(input('Введите число: '))\n",
        "for i in range(1, n+1):\n",
        "    for o in range(1, n+1):\n",
        "        print(f'{i} * {o} = {i * o}\\t', end=' ')\n",
        "    print('')\n",
        "# --------------\n",
        "# Пример вывода:\n",
        "#\n",
        "# n = 5\n",
        "# 1 * 1 =  1  1 * 2 =  2  1 * 3 =  3  1 * 4 =  4  1 * 5 =  5\n",
        "# 2 * 1 =  2  2 * 2 =  4  2 * 3 =  6  2 * 4 =  8  2 * 5 = 10\n",
        "# 3 * 1 =  3  3 * 2 =  6  3 * 3 =  9  3 * 4 = 12  3 * 5 = 15\n",
        "# 4 * 1 =  4  4 * 2 =  8  4 * 3 = 12  4 * 4 = 16  4 * 5 = 20\n",
        "# 5 * 1 =  5  5 * 2 = 10  5 * 3 = 15  5 * 4 = 20  5 * 5 = 25"
      ],
      "metadata": {
        "colab": {
          "base_uri": "https://localhost:8080/"
        },
        "id": "YTiBXaERHUIq",
        "outputId": "190df533-e5bd-49be-f915-0e235a833424"
      },
      "execution_count": 34,
      "outputs": [
        {
          "output_type": "stream",
          "name": "stdout",
          "text": [
            "Введите число: 5\n",
            "1 * 1 = 1\t 1 * 2 = 2\t 1 * 3 = 3\t 1 * 4 = 4\t 1 * 5 = 5\t \n",
            "2 * 1 = 2\t 2 * 2 = 4\t 2 * 3 = 6\t 2 * 4 = 8\t 2 * 5 = 10\t \n",
            "3 * 1 = 3\t 3 * 2 = 6\t 3 * 3 = 9\t 3 * 4 = 12\t 3 * 5 = 15\t \n",
            "4 * 1 = 4\t 4 * 2 = 8\t 4 * 3 = 12\t 4 * 4 = 16\t 4 * 5 = 20\t \n",
            "5 * 1 = 5\t 5 * 2 = 10\t 5 * 3 = 15\t 5 * 4 = 20\t 5 * 5 = 25\t \n"
          ]
        }
      ]
    },
    {
      "cell_type": "markdown",
      "source": [],
      "metadata": {
        "id": "V-SKS8TOMV0b"
      }
    },
    {
      "cell_type": "markdown",
      "source": [
        "#4.2.26\n",
        "№4.2.26\n",
        "\n",
        "Выведите графическое изображения делимости чисел от 1 до n (значение n вводится с клавиатуры) - в каждой строке напечатайте очередное число и столько символов *, сколько делителей у этого числа.\n",
        "\n",
        "Например, если n=4, на экране должно быть напечатано:\n",
        "\n",
        "![image.png](data:image/png;base64,iVBORw0KGgoAAAANSUhEUgAAAFsAAABPCAYAAACEcbkUAAADOUlEQVR4nO2cP0/bQBjGH6p+g1YCqTJTh2ZDTFU6kekGLKbOYY3MEE8EPkATJmew99C1YoiO4aYyhaVSdBsdslCKZH+KdkiQKIXGvpi3+fP8pCyRT7Z+enOx3+d8a9c/b3+tv34F8vy8+N8XsEpQtiCULQhlC0LZglC2IJQtCGULQtmCULYg7rIzjVApKJXAFh0XFxqxNLjJHiZQbeDwNEAl9yCLRCkktx5qHqCbCmE/dTr9ovLSadR2ALMNINMFBm0hMAY2VmidVxCcGkTrTmdfWATn7HFlD6odBI060GZlPyPjykamEV56iLoGvtzJ5wJB2RPWfUQH4medC3jrJ8iaU1KTaYT1BFf3v9vtwBxslXltS4ebbOIEpxFBKFsQyhaEsgWhbEEoWxDKFoSyBXGWnfZDKKXGnyJhwD/CAxuH0JnrFc0/jrItzi5q6BkDYzrwz1tIhtPHPBUepP0QqqkBrwbvNime/iwIpTyu21hhUDUItvMdOw4PIvj3w4O7fssS91hKmLMtBucVbL6ZftxT4UHaD6HaQL0RoFMdsLIfJ4Vu7uPrTg/R3ka+IZlG+MVD9Ej12jjEzccHFb9EzCB7LDp5u7w/+7JxnkZsTNFFcavsYQJ1/CBZfxeg1/WRczJZSRgeCMInSEEoWxDKFoSyBaFsQShbEMoWhLIFce5nJ3fBAcOD3DjKHi//NcbAmB6CEcODPJSwZDjFj+95+tlPv3mwsRfBvL8XHpjlbG6V8AJTC6PGYY4eNMODEhpRBQMEhgezdf3Sfoj9mzp721Mo4dYvxbeLK/hVip6G2x/kgzcP/E/5kvVVh+GBIHyCFISyBaFsQShbEMoWhLIFoWxBKFuQGWVPQoSmRu6dQ5zCgxS6ufidwJlk27iF0a6fc+sit/DAxgoqTuHtbAKT4xZ1Sxj3x/VhAvV5E70j4KQNHOZcVOn05sFkIWelUWAd+BzinkEejxAcFVm16hYe2FhBXX5ApxGgjpPVq2wbK5x6kyrLNMICle0WHqTQzTN43QCL3Mh1kG2RqBb+3vfskamB/MHsLdailb3C8D5bEIYHgrCyBaFsQShbEMoWhLIFoWxBKFsQyhbkN514sDsgVm/eAAAAAElFTkSuQmCC)"
      ],
      "metadata": {
        "id": "c8vvFK5aMWjV"
      }
    },
    {
      "cell_type": "code",
      "source": [
        "n=int(input())\n",
        "for i in range(2,n+1):\n",
        "    a=2\n",
        "    c=2\n",
        "    while(c*c<=i):\n",
        "        if i%c==0:\n",
        "            a+=1\n",
        "            b=i//c\n",
        "            if b != c:\n",
        "                a+=1\n",
        "        c+=1        \n",
        "    print(i,a*\"*\");\n",
        "# --------------\n",
        "# Пример вывода:\n",
        "#\n",
        "# n = 10\n",
        "# 1 *\n",
        "# 2 **\n",
        "# 3 **\n",
        "# 4 ***\n",
        "# 5 **\n",
        "# 6 ****\n",
        "# 7 **\n",
        "# 8 ****\n",
        "# 9 ***\n",
        "# 10 ****"
      ],
      "metadata": {
        "colab": {
          "base_uri": "https://localhost:8080/"
        },
        "id": "LDLre3M-MsWW",
        "outputId": "b32eed9b-83f2-4084-f9bf-948b826eb9c0"
      },
      "execution_count": 42,
      "outputs": [
        {
          "output_type": "stream",
          "name": "stdout",
          "text": [
            "10\n",
            "2 **\n",
            "3 **\n",
            "4 ***\n",
            "5 **\n",
            "6 ****\n",
            "7 **\n",
            "8 ****\n",
            "9 ***\n",
            "10 ****\n"
          ]
        }
      ]
    }
  ]
}