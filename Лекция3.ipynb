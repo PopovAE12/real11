{
  "nbformat": 4,
  "nbformat_minor": 0,
  "metadata": {
    "colab": {
      "provenance": [],
      "include_colab_link": true
    },
    "kernelspec": {
      "name": "python3",
      "display_name": "Python 3"
    },
    "language_info": {
      "name": "python"
    }
  },
  "cells": [
    {
      "cell_type": "markdown",
      "metadata": {
        "id": "view-in-github",
        "colab_type": "text"
      },
      "source": [
        "<a href=\"https://colab.research.google.com/github/PopovAE12/real11/blob/main/%D0%9B%D0%B5%D0%BA%D1%86%D0%B8%D1%8F3.ipynb\" target=\"_parent\"><img src=\"https://colab.research.google.com/assets/colab-badge.svg\" alt=\"Open In Colab\"/></a>"
      ]
    },
    {
      "cell_type": "markdown",
      "source": [
        "## **Инкапсуляция**\n",
        "\n",
        "Парадигма инкапсуляции предлагает объединять переменные и методы,\n",
        "относящиеся к одному объекту в единый компонент. По сути, соблюдение\n",
        "парадигмы инкапсуляции и заключается в создании классов.\n",
        "\n",
        "> * **private (приватные)** — методы доступны только внутри класса;\n",
        "> * **protected (защищенные)** — внутри класса и в дочерних классах."
      ],
      "metadata": {
        "id": "c6mTv2FoG6MQ"
      }
    },
    {
      "cell_type": "markdown",
      "source": [
        "Под инкапсуляцией в объектно-ориентированном программировании\n",
        "понимается упаковка данных и методов для их обработки вместе, т. е. в классе.\n",
        "В Python инкапсуляция реализуется как на уровне классов, так и объектов. В ряде\n",
        "других языков, например в Java, под инкапсуляцией также понимают сокрытие\n",
        "свойств и методов, в результате чего они становятся приватными. Это значит,\n",
        "что доступ к ним ограничен либо пределами класса, либо модуля. В Python\n",
        "подобной инкапсуляции нет, хотя существует способ ее имитировать. Перед тем\n",
        "как выяснять, как это делается, надо понять, зачем вообще что-то скрывать. Дело\n",
        "в том, что классы бывают большими и сложными. В них может быть множество\n",
        "вспомогательных полей и методов, которые не должны использоваться за его\n",
        "пределами. Они просто для этого не предназначены. Они своего рода внутренние\n",
        "шестеренки, обеспечивающие нормальную работу класса."
      ],
      "metadata": {
        "id": "jDx0KA99HDwj"
      }
    },
    {
      "cell_type": "markdown",
      "source": [
        "С точки зрения разграничения доступа к атрибутам класса Python является\n",
        "особенным языком - в нем отсутствует механизм, который мог бы запретить\n",
        "доступ к переменной или методу внутри класса. Вместо этого создатели Python\n",
        "предложили соглашение, в соответствии с которым:\n",
        " Если переменная/метод начинается с одного нижнего подчеркивания\n",
        "**(_protected_example)**, то – считается защищенным (protected).\n",
        " Если переменная/метод начинается с двух нижних подчеркиваний\n",
        "**(__private_example)**, то – считается приватным (private).\n",
        "Все члены класса в Python являются публичными по умолчанию. Любой\n",
        "член класса может быть доступен за пределами самого класса. Рассмотрим\n",
        "пример создания и работы с публичными (public) методами в Python."
      ],
      "metadata": {
        "id": "hrkHwTYDHLTM"
      }
    },
    {
      "cell_type": "code",
      "execution_count": null,
      "metadata": {
        "id": "JUsWLU3EG1tv"
      },
      "outputs": [],
      "source": [
        "class Car:\n",
        "    def __init__(self, color):\n",
        "    # Объявляем публичное поле color\n",
        "        self.color = color"
      ]
    },
    {
      "cell_type": "code",
      "source": [
        "# Создаем экземпляр класса Car\n",
        "car = Car('Grey')\n",
        "# Обращаемся к свойству color\n",
        "print(car.color)\n",
        "# Изменяем свойство color\n",
        "car.color = 'Red'\n",
        "print(car.color)"
      ],
      "metadata": {
        "colab": {
          "base_uri": "https://localhost:8080/"
        },
        "id": "TiriL3FZHU8H",
        "outputId": "c14511fa-246d-4420-c4bc-a992a0689b89"
      },
      "execution_count": null,
      "outputs": [
        {
          "output_type": "stream",
          "name": "stdout",
          "text": [
            "Grey\n",
            "Red\n"
          ]
        }
      ]
    },
    {
      "cell_type": "markdown",
      "source": [
        "В соответствии с соглашением чтобы сделать атрибут класса защищенным\n",
        "(protected), необходимо добавить к имени символ подчеркивания _ . Пример\n",
        "такой реализации представлен ниже."
      ],
      "metadata": {
        "id": "5J6o4GIhHoys"
      }
    },
    {
      "cell_type": "code",
      "source": [
        "class Car:\n",
        "    def __init__(self, color):\n",
        "        self._color = color"
      ],
      "metadata": {
        "id": "vK5v1NPOHpvH"
      },
      "execution_count": null,
      "outputs": []
    },
    {
      "cell_type": "code",
      "source": [
        "# Создаем экземпляр класса Car\n",
        "car = Car('Grey')\n",
        "# Обращаемся к свойству color\n",
        "print(car._color)\n",
        "# Изменяем свойство color\n",
        "car._color = 'Red'\n",
        "print(car._color)"
      ],
      "metadata": {
        "colab": {
          "base_uri": "https://localhost:8080/"
        },
        "id": "-ElqF40IHuiP",
        "outputId": "3a381daf-63ea-4e80-a386-541632051adb"
      },
      "execution_count": null,
      "outputs": [
        {
          "output_type": "stream",
          "name": "stdout",
          "text": [
            "Grey\n",
            "Red\n"
          ]
        }
      ]
    },
    {
      "cell_type": "markdown",
      "source": [
        "Это задача программиста – он не должен работать с атрибутами, имена\n",
        "которых начинаются с нижнего подчёркивания _ , снаружи класса.\n",
        "Часто намеренно скрываются поля самого класса, а не его объектов.\n",
        "Например, если класс имеет счетчик своих объектов, то необходимо исключить\n",
        "возможность его случайного изменения из вне. Рассмотрим пример с таким\n",
        "счетчиком на языке Python."
      ],
      "metadata": {
        "id": "0X8DiAfAHzLN"
      }
    },
    {
      "cell_type": "code",
      "source": [
        "class B:\n",
        "    count = 0\n",
        "    def __init__(self):\n",
        "        B.count += 1\n",
        "    def __del__(self):\n",
        "        B.count -= 1"
      ],
      "metadata": {
        "id": "42vgfXJaHzhr"
      },
      "execution_count": null,
      "outputs": []
    },
    {
      "cell_type": "code",
      "source": [
        "a = B()\n",
        "b = B()\n",
        "print(B.count) # выведет 2\n",
        "del a\n",
        "print(B.count) # выведет 1\n",
        "\n",
        "\n",
        "print(B.count - 1)"
      ],
      "metadata": {
        "colab": {
          "base_uri": "https://localhost:8080/"
        },
        "id": "8SuA7S5iH50d",
        "outputId": "3e5c0f84-9cb4-44cf-8a69-78562a9f6a30"
      },
      "execution_count": null,
      "outputs": [
        {
          "output_type": "stream",
          "name": "stdout",
          "text": [
            "2\n",
            "1\n",
            "0\n"
          ]
        }
      ]
    },
    {
      "cell_type": "markdown",
      "source": [
        "Все работает. Проблема только в том, что если в основной ветке где-то по\n",
        "ошибке или случайно произойдет присвоение полю B.count, то счетчик будет\n",
        "испорчен.\n",
        "\n",
        "Для имитации сокрытия атрибутов в Python используется соглашение – это\n",
        "не синтаксическое правило языка, при желании его можно нарушить, согласно\n",
        "которому, если поле или метод имеют два знака подчеркивания впереди имени,\n",
        "но не сзади, то этот атрибут предусмотрен исключительно для внутреннего\n",
        "пользования."
      ],
      "metadata": {
        "id": "hCM-v79OIpHC"
      }
    },
    {
      "cell_type": "code",
      "source": [
        "class B:\n",
        "    __count = 0\n",
        "    def __init__(self):\n",
        "        B.__count += 1\n",
        "    def __del__(self):\n",
        "        B.__count -= 1\n",
        "\n",
        "a = B()\n",
        "print(B.__count)\n",
        "\n",
        "# Попытка выполнить этот код приведет к выбросу исключения"
      ],
      "metadata": {
        "colab": {
          "base_uri": "https://localhost:8080/",
          "height": 246
        },
        "id": "d8zmV04DJCfU",
        "outputId": "6441a042-7b57-473c-e6b1-97c5a3803419"
      },
      "execution_count": null,
      "outputs": [
        {
          "output_type": "error",
          "ename": "AttributeError",
          "evalue": "ignored",
          "traceback": [
            "\u001b[0;31m---------------------------------------------------------------------------\u001b[0m",
            "\u001b[0;31mAttributeError\u001b[0m                            Traceback (most recent call last)",
            "\u001b[0;32m<ipython-input-43-32c524889a03>\u001b[0m in \u001b[0;36m<module>\u001b[0;34m\u001b[0m\n\u001b[1;32m      7\u001b[0m \u001b[0;34m\u001b[0m\u001b[0m\n\u001b[1;32m      8\u001b[0m \u001b[0ma\u001b[0m \u001b[0;34m=\u001b[0m \u001b[0mB\u001b[0m\u001b[0;34m(\u001b[0m\u001b[0;34m)\u001b[0m\u001b[0;34m\u001b[0m\u001b[0;34m\u001b[0m\u001b[0m\n\u001b[0;32m----> 9\u001b[0;31m \u001b[0mprint\u001b[0m\u001b[0;34m(\u001b[0m\u001b[0mB\u001b[0m\u001b[0;34m.\u001b[0m\u001b[0m__count\u001b[0m\u001b[0;34m)\u001b[0m\u001b[0;34m\u001b[0m\u001b[0;34m\u001b[0m\u001b[0m\n\u001b[0m\u001b[1;32m     10\u001b[0m \u001b[0;34m\u001b[0m\u001b[0m\n\u001b[1;32m     11\u001b[0m \u001b[0;31m# Попытка выполнить этот код приведет к выбросу исключения\u001b[0m\u001b[0;34m\u001b[0m\u001b[0;34m\u001b[0m\u001b[0m\n",
            "\u001b[0;31mAttributeError\u001b[0m: type object 'B' has no attribute '__count'"
          ]
        }
      ]
    },
    {
      "cell_type": "markdown",
      "source": [
        "То есть атрибут __ count за пределами класса становится невидимым, хотя\n",
        "внутри класса он вполне себе видимый. Понятно, если не можем даже получить\n",
        "значение поля за пределами класса, то присвоить ему значение – тем более. На\n",
        "самом деле сокрытие в Python не настоящее и доступ к счетчику получить все же\n",
        "можем. Но для этого надо написать B._B__count"
      ],
      "metadata": {
        "id": "cVrdf33eJYFc"
      }
    },
    {
      "cell_type": "code",
      "source": [
        "print(B._B__count)"
      ],
      "metadata": {
        "colab": {
          "base_uri": "https://localhost:8080/"
        },
        "id": "sezi7kb-JYcS",
        "outputId": "5bba7199-a989-4819-d07b-335810b8f99f"
      },
      "execution_count": null,
      "outputs": [
        {
          "output_type": "stream",
          "name": "stdout",
          "text": [
            "1\n"
          ]
        }
      ]
    },
    {
      "cell_type": "markdown",
      "source": [
        "Если в классе есть атрибут с двумя первыми\n",
        "подчеркиваниями, то для доступа извне к имени атрибута добавляется имя\n",
        "класса с одним впереди стоящим подчеркиванием. В результате атрибут как он\n",
        "есть в данном случае __ count оказывается замаскированным. Вне класса такого\n",
        "атрибута просто не существует. Наличие двух подчеркиваний перед атрибутом\n",
        "должно сигнализировать, что трогать его вне класса не стоит вообще, даже через\n",
        "B.__count, разве что при крайней необходимости. Хорошо, мы защитили поле от\n",
        "случайных изменений. Но как теперь получить его значение? Сделать это можно\n",
        "с помощью добавления метода/"
      ],
      "metadata": {
        "id": "J34GvzbsJh7o"
      }
    },
    {
      "cell_type": "code",
      "source": [
        "class B:\n",
        "    __count = 0\n",
        "    def __init__(self):\n",
        "        B.__count += 1\n",
        "    def __del__(self):\n",
        "        B.__count -= 1\n",
        "    def qtyObject():\n",
        "        return B.__count\n",
        "\n",
        "a = B()\n",
        "b = B()\n",
        "\n",
        "print(B.qtyObject())"
      ],
      "metadata": {
        "colab": {
          "base_uri": "https://localhost:8080/"
        },
        "id": "-6B73QtJJiWT",
        "outputId": "03b56949-5c23-4b17-87b8-8defa414fa55"
      },
      "execution_count": null,
      "outputs": [
        {
          "output_type": "stream",
          "name": "stdout",
          "text": [
            "2\n"
          ]
        },
        {
          "output_type": "stream",
          "name": "stderr",
          "text": [
            "Exception ignored in: <function B.__del__ at 0x7fb7f05d6280>\n",
            "Traceback (most recent call last):\n",
            "  File \"<ipython-input-41-7f9f408e2b19>\", line 6, in __del__\n",
            "AttributeError: type object 'B' has no attribute 'count'\n"
          ]
        }
      ]
    },
    {
      "cell_type": "markdown",
      "source": [
        "В данном случае метод qtyObject()) не принимает объект (нет self), поэтому\n",
        "вызывать его надо через класс. То же самое с методами. Их можно сделать\n",
        "\"приватными\" с помощью двойного подчеркивания."
      ],
      "metadata": {
        "id": "mQ56jgqgJtaX"
      }
    },
    {
      "cell_type": "code",
      "source": [
        "class DoubleList:\n",
        "    def __init__(self, l):\n",
        "        self.double = DoubleList.__makeDouble(l)\n",
        "    def __makeDouble(old):\n",
        "        new = []\n",
        "        for i in old:\n",
        "            new.append(i)\n",
        "            new.append(i)\n",
        "        return new\n",
        "\n",
        "nums = DoubleList([1, 3, 4, 6, 12])\n",
        "print(nums.double)\n",
        "print(DoubleList.__makeDouble([1,2]))\n",
        "\n",
        "# должно вывести цифры 1 1 3 3 4 4 6 6 12 12 и ошибку"
      ],
      "metadata": {
        "colab": {
          "base_uri": "https://localhost:8080/",
          "height": 227
        },
        "id": "T_-6-R-yJz6n",
        "outputId": "42bfba10-e718-42b1-c378-da53595cd55c"
      },
      "execution_count": null,
      "outputs": [
        {
          "output_type": "stream",
          "name": "stdout",
          "text": [
            "[1, 1, 3, 3, 4, 4, 6, 6, 12, 12]\n"
          ]
        },
        {
          "output_type": "error",
          "ename": "AttributeError",
          "evalue": "ignored",
          "traceback": [
            "\u001b[0;31m---------------------------------------------------------------------------\u001b[0m",
            "\u001b[0;31mAttributeError\u001b[0m                            Traceback (most recent call last)",
            "\u001b[0;32m<ipython-input-47-c70e8c42921a>\u001b[0m in \u001b[0;36m<module>\u001b[0;34m\u001b[0m\n\u001b[1;32m     11\u001b[0m \u001b[0mnums\u001b[0m \u001b[0;34m=\u001b[0m \u001b[0mDoubleList\u001b[0m\u001b[0;34m(\u001b[0m\u001b[0;34m[\u001b[0m\u001b[0;36m1\u001b[0m\u001b[0;34m,\u001b[0m \u001b[0;36m3\u001b[0m\u001b[0;34m,\u001b[0m \u001b[0;36m4\u001b[0m\u001b[0;34m,\u001b[0m \u001b[0;36m6\u001b[0m\u001b[0;34m,\u001b[0m \u001b[0;36m12\u001b[0m\u001b[0;34m]\u001b[0m\u001b[0;34m)\u001b[0m\u001b[0;34m\u001b[0m\u001b[0;34m\u001b[0m\u001b[0m\n\u001b[1;32m     12\u001b[0m \u001b[0mprint\u001b[0m\u001b[0;34m(\u001b[0m\u001b[0mnums\u001b[0m\u001b[0;34m.\u001b[0m\u001b[0mdouble\u001b[0m\u001b[0;34m)\u001b[0m\u001b[0;34m\u001b[0m\u001b[0;34m\u001b[0m\u001b[0m\n\u001b[0;32m---> 13\u001b[0;31m \u001b[0mprint\u001b[0m\u001b[0;34m(\u001b[0m\u001b[0mDoubleList\u001b[0m\u001b[0;34m.\u001b[0m\u001b[0m__makeDouble\u001b[0m\u001b[0;34m(\u001b[0m\u001b[0;34m[\u001b[0m\u001b[0;36m1\u001b[0m\u001b[0;34m,\u001b[0m\u001b[0;36m2\u001b[0m\u001b[0;34m]\u001b[0m\u001b[0;34m)\u001b[0m\u001b[0;34m)\u001b[0m\u001b[0;34m\u001b[0m\u001b[0;34m\u001b[0m\u001b[0m\n\u001b[0m",
            "\u001b[0;31mAttributeError\u001b[0m: type object 'DoubleList' has no attribute '__makeDouble'"
          ]
        }
      ]
    },
    {
      "cell_type": "markdown",
      "source": [
        "Подведя итоги, можно сказать следующее:\n",
        "* существует три уровня доступа к свойствам/методам класса: public,\n",
        "protected, private;\n",
        "* физически данный механизм ограничения доступа к атрибутам класса в\n",
        "Python реализован слабо, что от части может противоречить одному из главных\n",
        "принципов ООП - инкапсуляции.\n",
        "* существует некоторое соглашение, по которому в Python задать уровень\n",
        "доступа к свойству/методу класса можно с помощью добавления к имени одного\n",
        "(protected) или двух (private) подчеркиваний. Ответственность за соблюдение\n",
        "данного соглашения ложится на плечи программистов."
      ],
      "metadata": {
        "id": "uHLJ0ZoxKPb_"
      }
    }
  ]
}