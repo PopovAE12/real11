{
  "nbformat": 4,
  "nbformat_minor": 0,
  "metadata": {
    "colab": {
      "provenance": [],
      "include_colab_link": true
    },
    "kernelspec": {
      "name": "python3",
      "display_name": "Python 3"
    },
    "language_info": {
      "name": "python"
    }
  },
  "cells": [
    {
      "cell_type": "markdown",
      "metadata": {
        "id": "view-in-github",
        "colab_type": "text"
      },
      "source": [
        "<a href=\"https://colab.research.google.com/github/PopovAE12/real11/blob/main/%D0%9B%D0%B5%D0%BA%D1%86%D0%B8%D1%8F4.ipynb\" target=\"_parent\"><img src=\"https://colab.research.google.com/assets/colab-badge.svg\" alt=\"Open In Colab\"/></a>"
      ]
    },
    {
      "cell_type": "markdown",
      "source": [
        "# **Парадигмы ООП. Полиморфизм**"
      ],
      "metadata": {
        "id": "_hvQHviGq5gk"
      }
    },
    {
      "cell_type": "markdown",
      "source": [
        "Полиморфизм в объектно-ориентированном программировании – это\n",
        "возможность обработки разных типов данных, т. е. принадлежащих к разным\n",
        "классам, с помощью «одно и той же» функции, или метода. На самом деле\n",
        "одинаковым является только имя метода, его исходный код зависит от класса.\n",
        "Кроме того, результаты работы одноименных методов могут существенно\n",
        "различаться. Поэтому в данном контексте под полиморфизмом понимается\n",
        "множество форм одного и того же слова – имени метода."
      ],
      "metadata": {
        "id": "m1jkYgwXq-B9"
      }
    },
    {
      "cell_type": "markdown",
      "source": [
        "Например, два разных класса содержат метод total, однако инструкции\n",
        "каждого предусматривают совершенно разные операции. Так в классе T1 – это\n",
        "прибавление 10 к аргументу, в T2 – подсчет длины строки символов. В\n",
        "зависимости от того, к объекту какого класса применяется метод total,\n",
        "выполняются те или иные инструкции."
      ],
      "metadata": {
        "id": "NRrnKjA3q-qa"
      }
    },
    {
      "cell_type": "code",
      "execution_count": null,
      "metadata": {
        "colab": {
          "base_uri": "https://localhost:8080/"
        },
        "id": "TW4Gcgrtqbhn",
        "outputId": "79353121-fdd8-4719-faaa-b61ee1fd5e74"
      },
      "outputs": [
        {
          "output_type": "stream",
          "name": "stdout",
          "text": [
            "55\n",
            "2\n"
          ]
        }
      ],
      "source": [
        "class T1:\n",
        "    n=10\n",
        "    def total(self, N):\n",
        "        self.total = int(self.n) + int(N)\n",
        "\n",
        "class T2:\n",
        "    def total(self,s):\n",
        "        self.total = len(str(s))\n",
        "\n",
        "t1 = T1()\n",
        "t2 = T2()\n",
        "t1.total(45)\n",
        "t2.total(45)\n",
        "print(t1.total) # Вывод: 55\n",
        "print(t2.total) # Вывод: 2\n"
      ]
    },
    {
      "cell_type": "markdown",
      "source": [
        "Полиморфизм дает возможность реализовывать так называемые единые\n",
        "интерфейсы для объектов различных классов. Например, разные классы могут\n",
        "предусматривать различный способ вывода той или иной информации объектов.\n",
        "Однако одинаковое название метода вывода позволит не запутать программу,\n",
        "сделать код более ясным. В Python среди прочего полиморфизм находит отражение в методах перегрузки операторов ( __init__() и __del__()), которые вызываются при создании объекта и его удалении. Полиморфизм у методов перегрузки операторов проявляется в том, что независимо от типа объекта, его участие в определенной операции, вызывает метод с конкретным именем. В случае __init()__ операцией является создание объекта. Рассмотрим пример полиморфизма на еще одном методе, который перегружает функцию print().\n",
        "\n",
        "Создадим объект собственного класса, а потом вывести его на экран, то\n",
        "получим информацию о классе объекта и его адрес в памяти. Такое поведение\n",
        "функции print() по умолчанию по отношению к пользовательским классам запрограммировано на самом верхнем уровне иерархии, где-то в суперклассе, от которого неявно наследуются все остальные."
      ],
      "metadata": {
        "id": "v66X2NyfrMmL"
      }
    },
    {
      "cell_type": "code",
      "source": [
        "class A:\n",
        "    def __init__(self, v1, v2):\n",
        "        self.field1 = v1\n",
        "        self.field2 = v2\n",
        "\n",
        "a = A(3, 4)\n",
        "print(a)"
      ],
      "metadata": {
        "colab": {
          "base_uri": "https://localhost:8080/"
        },
        "id": "u_4SiZj0rY4S",
        "outputId": "3ba048f3-1c74-463e-9100-689e3de988f9"
      },
      "execution_count": null,
      "outputs": [
        {
          "output_type": "stream",
          "name": "stdout",
          "text": [
            "<__main__.A object at 0x7f25244223a0>\n"
          ]
        }
      ]
    },
    {
      "cell_type": "markdown",
      "source": [
        "*`Парадигма полиморфизма позволяет вместо объекта базового типа использовать его потомка, при этом не указывая это явно.`*"
      ],
      "metadata": {
        "id": "M4EweMUWrjsd"
      }
    },
    {
      "cell_type": "code",
      "source": [
        "class Parent:\n",
        "    def some_method(self):\n",
        "        print(\"This is Parent object\")\n",
        "class Child1(Parent):\n",
        "    def some_method(self):\n",
        "        print(\"This is Child1 object\")\n",
        "class Child2(Parent):\n",
        "    def some_method(self):\n",
        "        print(\"This is Child2 object\")\n",
        "\n",
        "def who_am_i(obj):\n",
        "    obj.some_method()\n",
        "\n",
        "p = Parent()\n",
        "c1 = Child1()\n",
        "c2 = Child2()\n",
        "who_am_i(p)\n",
        "who_am_i(c1)\n",
        "who_am_i(c2)\n",
        "print()\n"
      ],
      "metadata": {
        "colab": {
          "base_uri": "https://localhost:8080/"
        },
        "id": "r4Sa_IQLrddI",
        "outputId": "9af03021-71e0-41c4-81e2-7512afa54b97"
      },
      "execution_count": null,
      "outputs": [
        {
          "output_type": "stream",
          "name": "stdout",
          "text": [
            "This is Parent object\n",
            "This is Child1 object\n",
            "This is Child2 object\n",
            "\n"
          ]
        }
      ]
    }
  ]
}